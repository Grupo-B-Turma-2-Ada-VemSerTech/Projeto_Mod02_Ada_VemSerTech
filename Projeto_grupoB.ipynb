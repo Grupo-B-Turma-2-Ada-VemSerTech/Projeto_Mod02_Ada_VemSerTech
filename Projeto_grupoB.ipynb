{
 "cells": [
  {
   "cell_type": "markdown",
   "metadata": {},
   "source": [
    "# Projeto\n",
    "\n",
    "**Objetivo**: Desenvolver um CRUD utilizando um arquivo JSON para \"persistir\" os dados e aplicar algumas outras funcionalidades que seriam interessantes no sistema.\n",
    "\n",
    "**Requisitos**: O projeto deve conter as seguintes funcionalidades/ características:\n",
    "\n",
    "- Utilizar JSON para persistir os dados\n",
    "- Função de criar o arquivo JSON (amanda) OK\n",
    "- Função para adicionar registros (através do *input*, ou de um conjunto de dados históricos, por exemplo) (ricardo)\n",
    "    - Não deixar para o usuário decidir o id, apenas coloque o proximo valor disponível\n",
    "- Função para realizar o *udpate* (atualização) das informações (leticia)\n",
    "    - Selecionar pelo ID\n",
    "- Função para excluir registros (adriely)\n",
    "    - Selecionar pelo ID\n",
    "- Função para realizar a leitura de registros (printar os dados na tela do consumidor x, lista) (leticia)\n",
    "- Função para filtrar informações dos dados (Amanda) +/- OK\n",
    "- Função para aplicar alguma regra de negócio (varia de acordo com o sistema, exemplo, grupo criou um sistema de consulta de colaboradores, logo deseja-se ter uma função que calcula o faturamento de todos os funcionários que são vendedores) (lorrany)\n",
    "    - Utilizar as funções de filtro e de estatística\n",
    "- Função que retorne alguma estatística dos dados (lorrany)\n",
    "- menu (daniel)\n",
    "- Exemplos de funcionamento de cada uma das funções acima\n",
    "\n",
    "**Pontos importantes**:\n",
    "\n",
    "- Organização de código no ``jupyter notebook`` (não precisa de ppt, no dia apenas o notebook será necessário)\n",
    "- Definição sobre o que será o sistema (livre e definido pelo grupo)\n",
    "- Apresentação do sistema e funcionalidades (assim como os exemplos). Não precisa ser o grupo todo apresentando\n",
    "- Gerenciamento de erros, como no caso de num input o usuário colocar 'abc' num campo de valor inteiro\n",
    "- A nota do grupo será a nota de cada integrante\n",
    "- Tempo de apresentação: de 15 a 20 minutos\n",
    "- A princípio todos integrantes devem entregar o mesmo notebook no sistema do LMS, para fins de retorno de nota\n",
    "- Não precisa se ater somente aos 10 requisitos acima, pode ir além :)"
   ]
  },
  {
   "cell_type": "markdown",
   "metadata": {},
   "source": [
    "banco de dados: \n",
    "https://www.kaggle.com/datasets/iamsouravbanerjee/customer-shopping-trends-dataset\n",
    "\n",
    "Pacotes necessários:\n",
    "(**favor instalar!**)\n",
    "- ``os``\n",
    "- ``translate``\n",
    "- ``json``\n",
    "- ``csv``\n",
    "- ``langdetect``"
   ]
  },
  {
   "cell_type": "markdown",
   "metadata": {},
   "source": [
    "## Função para validação de respostas do usuário"
   ]
  },
  {
   "cell_type": "code",
   "execution_count": 18,
   "metadata": {},
   "outputs": [],
   "source": [
    "def validacao_respostas(pergunta, respostas_validas):\n",
    "  \"\"\"\n",
    "  Validação de respostas. A função valida respostas de um caracter\n",
    "  É passado como parâmetro:\n",
    "    - A pergunta que se quer fazer (str)\n",
    "    - Uma lista com as respostas válidas\n",
    "\n",
    "  Caso o usuário digite algo diferente das respostas válidas,\n",
    "  a função repetirá a pergunta até que o usuário responda um valor válido.\n",
    "  E só retornará opções válidas de valores\n",
    "  \"\"\"\n",
    "  print(pergunta)\n",
    "  resp = input().upper()[0]# apenas 1ªletra\n",
    "  pergunta = 'Resposta inválida! ' + pergunta\n",
    "  while not resp in respostas_validas:\n",
    "    print(pergunta)\n",
    "    resp = input().upper()[0]# apenas 1ªletra\n",
    "    #resp = input(pergunta).upper()[0]# apenas 1ªletra\n",
    "  return resp"
   ]
  },
  {
   "cell_type": "markdown",
   "metadata": {},
   "source": [
    "## Função que lista os arquivos disponíveis"
   ]
  },
  {
   "cell_type": "code",
   "execution_count": 19,
   "metadata": {},
   "outputs": [],
   "source": [
    "import os\n",
    "def arquivos_disponiveis(extensao: str):\n",
    "    \"\"\"Função recebe uma extensão de arquivo e lista todos os arquivos com a extensão que estão no diretório\n",
    "\n",
    "    Args:\n",
    "        extensao (str): extensão do arquivo\n",
    "\n",
    "    Returns:\n",
    "        opcoes (dict): as opções de arquivos disponíveis\n",
    "    \"\"\"\n",
    "    pergunta = 'Informe o numero do arquivo que deseja importar'\n",
    "    opcoes = dict()\n",
    "    arquivos = os.listdir() # lista todos os arquivos presentes na pasta\n",
    "    arquivos_extensao = [arquivo for arquivo in arquivos if arquivo.endswith(extensao)] # filtra pela extensao\n",
    "    print(f'Lista de arquivos {extensao.upper()} disponíveis')\n",
    "    for i in range(len(arquivos_extensao)):\n",
    "        print(f'\\t{i+1}\\t{arquivos_extensao[i]}')\n",
    "        opcoes.update({str(i+1):arquivos_extensao[i]})\n",
    "    return opcoes\n",
    "        "
   ]
  },
  {
   "cell_type": "markdown",
   "metadata": {},
   "source": [
    "# Função que retorna uma lista de valores sem repetição"
   ]
  },
  {
   "cell_type": "code",
   "execution_count": 20,
   "metadata": {},
   "outputs": [],
   "source": [
    "def lista_de_valores_sem_repeticoes(lista_de_dicionarios, chave):\n",
    "  \"\"\"\n",
    "  Recebe uma lista de dicionários.\n",
    "  A função retorna lista dos valores encontrados para a chave, sem repetições de valores.\n",
    "\n",
    "  Args:\n",
    "    lista_de_dicionarios: Uma lista de dicionários.\n",
    "    chave: A chave a ser pesquisada.\n",
    "\n",
    "  Returns:\n",
    "    Uma lista.\n",
    "  \"\"\"\n",
    "  lista_de_valores = set()\n",
    "  for dicionario in lista_de_dicionarios:\n",
    "    if chave in dicionario:\n",
    "      lista_de_valores.add(dicionario[chave])\n",
    "  return list(lista_de_valores)"
   ]
  },
  {
   "cell_type": "markdown",
   "metadata": {},
   "source": []
  },
  {
   "cell_type": "markdown",
   "metadata": {},
   "source": [
    "# Verifica se a variável é um número"
   ]
  },
  {
   "cell_type": "code",
   "execution_count": 21,
   "metadata": {},
   "outputs": [],
   "source": [
    "def validacao_numero(pergunta:str, var_tipo: type):\n",
    "    \"\"\"Valida e converte variáveis numéricas\n",
    "\n",
    "    Args:\n",
    "        pergunta (str): Pergunta realizada pelo usuário para coletar o valor\n",
    "        var_tipo (type): tipo de variável numérica do valor que será informado pelo usuário\n",
    "\n",
    "    Returns:\n",
    "        valor validado e convertido de acordo com a variável var_tipo\n",
    "    \"\"\"\n",
    "    valido = False\n",
    "    print(pergunta)\n",
    "    if var_tipo == int:\n",
    "        while valido != True:\n",
    "            numero = input(pergunta)\n",
    "            try:\n",
    "                int(numero)\n",
    "                valido = True\n",
    "            except ValueError:\n",
    "                print(\"Informe um valor válido!\")\n",
    "                numero = input(pergunta)\n",
    "                valido = False\n",
    "            else:\n",
    "                return int(numero)\n",
    "    else:\n",
    "        while valido != True:\n",
    "            numero = input(pergunta)\n",
    "            try:\n",
    "                float(numero)\n",
    "                valido = True\n",
    "            except ValueError:\n",
    "                print(\"Informe um valor válido!\")\n",
    "                numero = input(pergunta)\n",
    "                valido = False\n",
    "            else:\n",
    "                return float(numero)\n",
    "\n"
   ]
  },
  {
   "cell_type": "markdown",
   "metadata": {},
   "source": [
    "# Funções de Importação"
   ]
  },
  {
   "cell_type": "markdown",
   "metadata": {},
   "source": [
    "## Função para a leitura de dados de um csv ou json e transformação em uma lista de dicionários"
   ]
  },
  {
   "cell_type": "code",
   "execution_count": 22,
   "metadata": {},
   "outputs": [],
   "source": [
    "import json\n",
    "import csv\n",
    "def importar_dados(extensao:str):\n",
    "    \"\"\" realiza a importação dos dados de arquivos .json ou .csv\n",
    "\n",
    "    Args:\n",
    "        extensao (str): extensão do arquivo\n",
    "\n",
    "    Returns:\n",
    "        dados(list): lista de dicionários com as variáveis selecionadas para o estudo de caso\n",
    "    \"\"\"\n",
    "    dados = list()\n",
    "    \n",
    "    opcoes = arquivos_disponiveis(extensao)\n",
    "    respostas_validas = list(opcoes.keys())\n",
    "    pergunta = 'Informe o numero do arquivo que deseja importar'\n",
    "    str_arquivo = opcoes[validacao_respostas(pergunta, respostas_validas)]\n",
    "    \n",
    "    if extensao == '.json':\n",
    "        with open(str_arquivo, \"r\", encoding = \"utf-8\") as f:\n",
    "            dados = json.load(f) # os arquivos importados via .json já estarão filtrados pelas categorias filtradas pela importação via .csv\n",
    "\n",
    "    else:\n",
    "        with open(str_arquivo, \"r\") as arquivo:\n",
    "            arquivo_csv = csv.reader(arquivo, delimiter=\",\")\n",
    "            next(arquivo_csv)  # pula a primeira linha (cabeçalho)\n",
    "            for linha in enumerate(arquivo_csv):\n",
    "                Customer_ID, Age, Gender, Item_Purchased,Category, Purchase_Amount, Location, Size, Color, Season, Review_Rating, Subscription_Status, Payment_Method, Shipping_Type, Discount_Applied, Promo_Code_Used, Previous_Purchases, Preferred_Payment_Method, Frequency_of_Purchases = linha[1]\n",
    "                #print('ID', Customer_ID,'Idade', Age,'Genero', Gender,'Item',Item_Purchased,\n",
    "                #                          'Categoria', Category,'Metodo_Pagamento', Payment_Method)\n",
    "                # \n",
    "                dados.append({      'ID': int(Customer_ID), \n",
    "                                    'Idade': int(Age), #numérica\n",
    "                                    'Genero': Gender, #categórica\n",
    "                                    'Item':Item_Purchased, #categórica\n",
    "                                    'Categoria': Category, #categórica\n",
    "                                    'Preco': float(Purchase_Amount), #numérica\n",
    "                                    'Metodo_Pagamento': Payment_Method, #categórica\n",
    "                                    'Qtd_Compras': int(Previous_Purchases)#, #numérica\n",
    "                                    #'Frequencia_Compra': Frequency_of_Purchases #categórica\n",
    "                                    })\n",
    "    return dados\n"
   ]
  },
  {
   "cell_type": "markdown",
   "metadata": {},
   "source": [
    "## Função para traduzir palavras\n",
    "É necessário instalar o pacote ``translate``"
   ]
  },
  {
   "cell_type": "code",
   "execution_count": 23,
   "metadata": {},
   "outputs": [],
   "source": [
    "# (terminal) pip install translate\n",
    "from translate import Translator\n",
    "def traduz_palavras(lista_de_palavras):\n",
    "  \"\"\"\n",
    "  Recebe uma lista de palavras em inglês e retorna um dicionário onde \n",
    "  a chave é a palavra da lista e o valor é a tradução em português.\n",
    "\n",
    "  Args:\n",
    "    lista_de_palavras: Uma lista de palavras em inglês.\n",
    "\n",
    "  Returns:\n",
    "    Um dicionário.\n",
    "  \"\"\"\n",
    "  dicionario_de_traducao = {}\n",
    "  traducao = Translator(to_lang='pt-br', from_lang='english')\n",
    "  for palavra in lista_de_palavras:\n",
    "    dicionario_de_traducao[palavra] = traducao.translate(palavra)\n",
    "  return dicionario_de_traducao\n"
   ]
  },
  {
   "cell_type": "markdown",
   "metadata": {},
   "source": [
    "## Traduzindo os valores retirados do CSV"
   ]
  },
  {
   "cell_type": "code",
   "execution_count": 24,
   "metadata": {},
   "outputs": [],
   "source": [
    "def traduzindo_lista_dict(lista: list):\n",
    "    \"\"\"Traduz os valores de uma lista de dicionários\n",
    "\n",
    "    Args:\n",
    "        lista (list): lista de dicionários\n",
    "\n",
    "    Returns:\n",
    "        lista (list): lista de dicionários traduzida\n",
    "    \"\"\"\n",
    "    for chave in list(lista[0].keys()):\n",
    "        if type(lista[0][chave]) == str:\n",
    "            categorias = lista_de_valores_sem_repeticoes(lista, chave)\n",
    "            dict_traducao = traduz_palavras(categorias)\n",
    "            for i in range(len(lista)):\n",
    "\n",
    "                lista[i][chave] = dict_traducao[lista[i][chave]]\n",
    "    return lista"
   ]
  },
  {
   "cell_type": "markdown",
   "metadata": {},
   "source": [
    "## Detectar idioma"
   ]
  },
  {
   "cell_type": "code",
   "execution_count": 25,
   "metadata": {},
   "outputs": [],
   "source": [
    "from langdetect import detect \n",
    "\n",
    "def detectar_idioma(dados:list):\n",
    "    \"\"\" A função detecta o idioma dos dados importados e\n",
    "    questiona ao usuário que ser traduzí-los.\n",
    "    Se a resposta for positiva, a função traduzindo_lista_dict() será chamada.\n",
    "\n",
    "    Args:\n",
    "        dados (list): dados dispostos em listas de dicionários\n",
    "\n",
    "    Returns:\n",
    "        dados (list): dados dispostos em listas de dicionários traduzidos para português\n",
    "    \"\"\"\n",
    "    if detect(dados[0]['Metodo_Pagamento']) == 'en': # um exemplo de dados categóricos para verificar o idioma\n",
    "        pergunta = 'Os dados estão em inglês, deseja traduzir?[S] Sim  [N] Não\\t'\n",
    "        resp = validacao_respostas(pergunta, ['S','N'])\n",
    "        if resp == 'S':\n",
    "            print(\"Essa operação pode demorar, aguarde.\")\n",
    "            return traduzindo_lista_dict(dados)\n",
    "\n"
   ]
  },
  {
   "cell_type": "markdown",
   "metadata": {},
   "source": [
    "## Menu de importação dos dados"
   ]
  },
  {
   "cell_type": "code",
   "execution_count": 26,
   "metadata": {},
   "outputs": [],
   "source": [
    "def menu_importar_dados():\n",
    "    \"\"\"\n",
    "        A função coleta do usuário as informações necessárias para realizar a importação de dados.\n",
    "        Informações coletadas:\n",
    "        - a extensão do dado que deseja.\n",
    "            - csv\n",
    "            - json\n",
    "            - não importar nenhum arquivo\n",
    "        - o nome do arquivo\n",
    "\n",
    "    Return:\n",
    "        dados (list): dados dispostos em listas de dicionários  \n",
    "    \n",
    "    \"\"\"\n",
    "    pergunta = \"\"\"Que tipo de arquivo deseja importar:\n",
    "      1 \\t CSV\n",
    "      2 \\t JSON\n",
    "      3 \\t Não importar nada   \"\"\"\n",
    "    resp =  validacao_respostas(pergunta, ['1','2','3'])\n",
    "    if   resp == '1':\n",
    "        dados = importar_dados('.csv')\n",
    "        detectar_idioma(dados)\n",
    "    elif resp == '2':\n",
    "        dados = importar_dados('.json')\n",
    "        detectar_idioma(dados)\n",
    "    else:\n",
    "        dados = list()\n",
    "    return dados"
   ]
  },
  {
   "cell_type": "markdown",
   "metadata": {},
   "source": [
    "# Listagem de dados"
   ]
  },
  {
   "cell_type": "markdown",
   "metadata": {},
   "source": [
    "## Lista simples de todos os dados da lista"
   ]
  },
  {
   "cell_type": "code",
   "execution_count": 27,
   "metadata": {},
   "outputs": [],
   "source": [
    "def listar_dados(dados: list):\n",
    "    print(\"\\t\".join(list(dados[0].keys())))\n",
    "    for j in range(len(dados)):\n",
    "        lista_linha = [str(list(dados[j].values())[i]) for i in range(len(list(dados[j].values())))]\n",
    "        print(\"\\t\".join(lista_linha))\n"
   ]
  },
  {
   "cell_type": "markdown",
   "metadata": {},
   "source": [
    "## Função que exibe os registros"
   ]
  },
  {
   "cell_type": "code",
   "execution_count": 28,
   "metadata": {},
   "outputs": [],
   "source": [
    "def exibir_dados(dados: list, ids: list ):\n",
    "    lista_indices = [i for i in range(len(dados)) if dados[i]['ID'] in ids]\n",
    "    print(\"Listagem:\")\n",
    "    lista_chaves = list(dados[0].keys())\n",
    "    for i in lista_indices:\n",
    "        print(' - - - - - - - - - - - - - - - - - - - - - -')\n",
    "        lista_valores = list(dados[i].values())\n",
    "        for j in range(len(lista_chaves)):\n",
    "            print(f'{lista_chaves[j].upper()}: {lista_valores[j]}')"
   ]
  },
  {
   "cell_type": "markdown",
   "metadata": {},
   "source": [
    "## Menu de listagem de registro"
   ]
  },
  {
   "cell_type": "code",
   "execution_count": 29,
   "metadata": {},
   "outputs": [],
   "source": [
    "def menu_lista(dados: list):\n",
    "    pergunta ='''Opções de Listagem:\n",
    "    [1] Lista de todos os registros\n",
    "    [2] Lista de registros específicos - via ID\n",
    "    [3] Lista de registros com ids sequenciais'''\n",
    "    resp = validacao_respostas(pergunta, ['1','2','3'])\n",
    "    if resp == '1':\n",
    "        listar_dados(dados)\n",
    "    elif resp == '2':\n",
    "        pergunta = \"Informe o ID que seja visualizar registro e 0 para sair\"\n",
    "        numero = 1# para inicializar o while\n",
    "        lista_ids = list()\n",
    "        while True:\n",
    "            numero = validacao_numero(pergunta, int)\n",
    "            if numero == 0:\n",
    "                break\n",
    "            lista_ids.append(numero)\n",
    "        if len(lista_ids) == 0:\n",
    "            print('Não há registros para exibir!')\n",
    "        else:\n",
    "            exibir_dados(dados,lista_ids)\n",
    "    else:\n",
    "        pergunta = \"Informe o ID inicial da sequência:\"\n",
    "        numero_inicial = validacao_numero(pergunta, int)\n",
    "        while numero_inicial <=0:\n",
    "            print('Informe valores positivos de ID')\n",
    "            numero_inicial = validacao_numero(pergunta, int)\n",
    "            \n",
    "        pergunta = \"Informe o ID final da sequência:\"\n",
    "        numero_final = validacao_numero(pergunta, int)\n",
    "        while numero_final <= numero_inicial:\n",
    "            print('Informe um valor maior que o ID inicial')\n",
    "            numero_final = validacao_numero(pergunta, int)\n",
    "        exibir_dados(dados,list(range(numero_inicial, numero_final)))\n",
    "        "
   ]
  },
  {
   "cell_type": "markdown",
   "metadata": {},
   "source": [
    "# Funções de Editar registros"
   ]
  },
  {
   "cell_type": "code",
   "execution_count": 30,
   "metadata": {},
   "outputs": [],
   "source": [
    "def editar_registros(dados: list, chave: str, valor, id:int):\n",
    "    indice =  [i for i in range(len(dados)) if dados[i]['ID'] == id][0]\n",
    "    dados[indice][chave] = valor\n",
    "    return dados"
   ]
  },
  {
   "cell_type": "code",
   "execution_count": 47,
   "metadata": {},
   "outputs": [],
   "source": [
    "def selecao_chave_edicao(dados: list, id : int):\n",
    "    print('Qual ou quais campos deseja editar, separando-os por vírgula')\n",
    "    indice =  [i for i in range(len(dados)) if dados[i]['ID'] == id][0]\n",
    "    chaves = list(dados[indice].keys())\n",
    "    lista_opcoes = [1]\n",
    "    i = 1\n",
    "    for chave in chaves[1:]:\n",
    "        print(f'{i}\\t{chave}')\n",
    "        i +=1\n",
    "        lista_opcoes.append(i)\n",
    "    print(f'{i}\\tNovo campo')\n",
    "    chaves\n",
    "    lista_selecionados     = (input().replace(' ','')).split(',')\n",
    "    \n",
    "    lista_opcoes_str       = list(map(str, lista_opcoes))\n",
    "    \n",
    "    errados = [i for i in lista_selecionados if not i in lista_opcoes_str]\n",
    "    if len(errados) >= 1:\n",
    "        if len(errados) == 1:\n",
    "            print(f'O campo \"{\" \".join(errados)}\" foi desconsiderado por ser inválido.')\n",
    "        else:\n",
    "            print(f'Os campos\\n{\" - \".join(errados)}\\nforam desconsiderados por serem inválidos.')\n",
    "\n",
    "        pergunta = 'Deseja refazer a seleção dos campos?\\n[S] Sim\\n[N] Não'\n",
    "        resp = validacao_respostas(pergunta, ['S','N'])\n",
    "    \n",
    "        if resp == 'S':\n",
    "            selecao_chave_edicao(dados, id)\n",
    "    \n",
    "    lista_selecionados_corrigidos = [i for i in lista_selecionados if not i in errados  ]\n",
    "    lista_selecionados_corrigido_int = list(map(int, lista_selecionados_corrigidos ))\n",
    "    if max(lista_selecionados_corrigido_int) == len(chaves):\n",
    "        novo_campo = input(\"Foi selecionado a opção 'Novo Campo'\\n Nomeei novo campo:\")\n",
    "        chaves.append(novo_campo)\n",
    "    \n",
    "    print('Campos selecionados para a edição:')\n",
    "    for i in lista_selecionados_corrigido_int:\n",
    "        chave = chaves[i]\n",
    "        pergunta = f'Informe o novo valor para o campo {chave.upper()}'\n",
    "        if dados[indice][chave] == None:\n",
    "            pergunta = f'''Que tipo de informação será armazenada no campo {chave}?\n",
    "            [1] Categórico\n",
    "            [2] Números Inteiros\n",
    "            [3] Números Decimais'''\n",
    "            resp = validacao_respostas(pergunta, ['1','2','3'])\n",
    "            if   resp == '2':\n",
    "                valor = validacao_numero(pergunta, int)\n",
    "            elif resp == '3':\n",
    "                valor = validacao_numero(pergunta, float)\n",
    "            else:\n",
    "                valor = input(pergunta).title()\n",
    "        elif type(dados[indice][chave]) == int:\n",
    "            valor = validacao_numero(pergunta, int)\n",
    "        elif type(dados[indice][chave]) == float:\n",
    "            valor = validacao_numero(pergunta, float)\n",
    "        else:\n",
    "            valor = input(pergunta).title()\n",
    "        return editar_registros(dados, chave, valor, id)\n",
    "    print('O registro foi atualizado!')\n",
    "    exibir_dados(dados, [id])\n",
    "    return dados\n"
   ]
  },
  {
   "cell_type": "code",
   "execution_count": 49,
   "metadata": {},
   "outputs": [],
   "source": [
    "def selecao_id_edicao(dados: list):\n",
    "    print('Para fazer a edição de um registro, é necessário informar o seu ID')\n",
    "    pergunta = '''Deseja listar os registros?\n",
    "    [S]\\t Sim\n",
    "    [N]\\t Não\n",
    "    '''\n",
    "    resp = validacao_respostas(pergunta, ['S','N'])\n",
    "    if resp == 'S':\n",
    "        listar_dados(dados)\n",
    "    pergunta = 'Informe o ID do registro que deseja editar'\n",
    "    resp = validacao_numero(pergunta, int)\n",
    "    return selecao_chave_edicao(dados, resp)"
   ]
  },
  {
   "cell_type": "markdown",
   "metadata": {},
   "source": [
    "# Função Remover"
   ]
  },
  {
   "cell_type": "code",
   "execution_count": 3,
   "metadata": {},
   "outputs": [],
   "source": [
    "import json\n",
    "def remover_arquivo(dados):\n",
    "    \"\"\"\"\n",
    "    Remove dicionários de um arquivo json através do ID inserido.\n",
    "\n",
    "    Parâmetros:\n",
    "    dados(list): Uma lista de dicionários.\n",
    "    \"\"\"\n",
    "     \n",
    "    with open('dados_vendas_traduzido.json', 'r') as arquivo:\n",
    "        dados = json.load(arquivo)\n",
    "\n",
    "    entrada_valida = False\n",
    "    while not entrada_valida:\n",
    "        id_input = input('Digite o ID que deseja remover: ')\n",
    "\n",
    "        if id_input.isdigit():\n",
    "            id_remover = int(id_input)\n",
    "            entrada_valida = True\n",
    "\n",
    "        else:\n",
    "            print(\"Por favor, insira apenas números.\")\n",
    "    \n",
    "\n",
    "    dados2 = [item for item in dados if item['ID'] != id_remover]\n",
    "\n",
    "    if len(dados2) < len(dados):\n",
    "        print('Dados removidos com sucesso!')\n",
    "    else:\n",
    "        print(f'O ID {id_remover} não foi encontrado!')\n",
    "\n",
    "    with open('dados_vendas_traduzido.json', 'w') as arquivo:\n",
    "        json.dump(dados2, arquivo, indent=2)"
   ]
  },
  {
   "cell_type": "markdown",
   "metadata": {},
   "source": [
    "# Funções para filtro"
   ]
  },
  {
   "cell_type": "markdown",
   "metadata": {},
   "source": [
    "## Função de filtro"
   ]
  },
  {
   "cell_type": "code",
   "execution_count": 34,
   "metadata": {},
   "outputs": [],
   "source": [
    "def filtro(lista: list, categoria:str, valor_categoria, tipo:str):\n",
    "    \"\"\"Função que realiza os filtros de acordo com os parâmetros de entrada passados\n",
    "\n",
    "    Args:\n",
    "        lista (list): dados dispostos em listas de dicionários\n",
    "        categoria (str): chave da categoria que se deseja filtrar \n",
    "        valor_categoria: valor utilizado com o operador comparativo\n",
    "        tipo (str): nome do operador comparativo\n",
    "\n",
    "    Returns:\n",
    "        filtro (list): dados filtrados dispostos em listas de dicionários\n",
    "    \"\"\"\n",
    "\n",
    "    if   tipo == 'Maior que':\n",
    "        filtro = list(filter(lambda x: x[categoria] >  valor_categoria, lista))\n",
    "    elif tipo == 'Maior ou igual':\n",
    "        filtro = list(filter(lambda x: x[categoria] >= valor_categoria, lista))\n",
    "    elif tipo == 'Menor que':\n",
    "        filtro = list(filter(lambda x: x[categoria] <  valor_categoria, lista))\n",
    "    elif tipo == 'Menor ou igual':\n",
    "        filtro = list(filter(lambda x: x[categoria] <= valor_categoria, lista))\n",
    "    elif tipo == 'Igual a':\n",
    "        filtro = list(filter(lambda x: x[categoria] == valor_categoria, lista))\n",
    "    else:       # Diferente de\n",
    "        filtro = list(filter(lambda x: x[categoria] != valor_categoria, lista))\n",
    "    return filtro\n"
   ]
  },
  {
   "cell_type": "markdown",
   "metadata": {},
   "source": [
    "### Filtro Categórico"
   ]
  },
  {
   "cell_type": "code",
   "execution_count": 35,
   "metadata": {},
   "outputs": [],
   "source": [
    "def filtro_categorico(dados:list, chave:str):\n",
    "    \"\"\"A função coleta do usuário qual operação se deseja realizar no filtro de variáveis categóricas\n",
    "\n",
    "    Args:\n",
    "        dados (list): dados dispostos em listas de dicionários\n",
    "        chave (str): chave da categoria que se deseja filtrar\n",
    "        As opções de filtros são\n",
    "                - Diferente de\n",
    "                - Igual a\n",
    "    Returns:\n",
    "        dados   (list): dados dispostos em listas de dicionários\n",
    "        chave    (str): chave da categoria que se deseja filtrar  \n",
    "        valor    (str): valor para realizar a operação de comparação \n",
    "        operacao (str): Nome da operação\n",
    "    \"\"\"\n",
    "\n",
    "    pergunta = f'Informe o número da opção você quer filtrar dentro de {chave}: '\n",
    "    opcoes = lista_de_valores_sem_repeticoes(dados, chave)\n",
    "\n",
    "    respostas_validas = list(range(1,len(opcoes)+1))\n",
    "    respostas_validas = list(map(str, respostas_validas))\n",
    "    print(f'\\nLista de opções dentro da categoria {chave}')\n",
    "    for i in range(len(opcoes)):\n",
    "        print(1+i,'\\t',opcoes[i])\n",
    "\n",
    "    resp = validacao_respostas(pergunta, respostas_validas)\n",
    "    valor = opcoes[int(resp)-1]\n",
    "    pergunta = f'''Como deseja filtrar os dados dentro de {chave}\n",
    "        [1] Para valores diferentes de {valor}\n",
    "        [2] Para valores iguais a de {valor}.'''\n",
    "    resp = validacao_respostas(pergunta, ['1','2'])\n",
    "\n",
    "    if resp == '1':\n",
    "        operacao = 'Diferente de'\n",
    "    else:\n",
    "        operacao = 'Igual a'\n",
    "    return dados, chave, valor, operacao"
   ]
  },
  {
   "cell_type": "markdown",
   "metadata": {},
   "source": [
    "### Filtro Numérico"
   ]
  },
  {
   "cell_type": "code",
   "execution_count": 36,
   "metadata": {},
   "outputs": [],
   "source": [
    "def filtro_numerico(dados:list, chave:str, var_tipo: type):\n",
    "    \"\"\"A função coleta do usuário qual operação se deseja realizar no filtro de variáveis numéricas\n",
    "\n",
    "    Args:\n",
    "        dados (list): dados dispostos em listas de dicionários\n",
    "        chave (str): chave da categoria que se deseja filtrar\n",
    "        var_tipo(type): tipo da variável (int ou float) que será utilizada para a comparação\n",
    "        As opções de filtros são\n",
    "                - Diferente de\n",
    "                - Igual a\n",
    "                - Maior que\n",
    "                - Maior ou Igual\n",
    "                - Menor que\n",
    "                - Menor ou Igual \n",
    "    Returns:\n",
    "        dados   (list): dados dispostos em listas de dicionários\n",
    "        chave    (str): chave da categoria que se deseja filtrar  \n",
    "        valor  (float): valor para realizar a operação de comparação \n",
    "        operacao (str): Nome da operação\n",
    "    \"\"\"\n",
    "    operadores_comparacao = ['Maior que','Maior ou igual',\n",
    "                            'Menor que','Menor ou igual',\n",
    "                            'Igual a','Diferente de']\n",
    "    respostas_validas = list(range(1,len(operadores_comparacao)+1))\n",
    "    respostas_validas = list(map(str, respostas_validas))\n",
    "\n",
    "    for i in range(len(respostas_validas)):\n",
    "        print(1+i,'\\t',operadores_comparacao[i])\n",
    "    pergunta = f'Informe o número da opção do operador para usar na categoria {chave}: '\n",
    "    resp = validacao_respostas(pergunta, respostas_validas)\n",
    "    operacao = operadores_comparacao[int(resp)-1]\n",
    "        \n",
    "    pergunta = 'Informe um valor para realizar a comparação: '\n",
    "    valor = validacao_numero(pergunta, var_tipo)\n",
    "    print(chave, valor, operacao)\n",
    "    return dados, chave, valor, operacao"
   ]
  },
  {
   "cell_type": "markdown",
   "metadata": {},
   "source": [
    "## Menu filtros"
   ]
  },
  {
   "cell_type": "code",
   "execution_count": 37,
   "metadata": {},
   "outputs": [],
   "source": [
    "def opcoes_filtros(dados:list):\n",
    "    \"\"\"A função coleta do usuário as informações necessárias para realizar a filtragem de dados.\n",
    "        Informações coletadas:\n",
    "        A categoria (chave) que se quer usar para realizar o filtro.\n",
    "        A operação que se deseja realizar será coletada a partir de duas funções\n",
    "        - filtro_categorico para variáveis categóricas\n",
    "        - filtro_numerico para variáveis numéricas (float e int)\n",
    "        E o valor necessário para tal.\n",
    "    Args:\n",
    "        dados (list): dados dispostos em listas de dicionários\n",
    "    \"\"\"\n",
    "    tamanho = len(list(dados[0].keys())[1:])\n",
    "    lista_categorias = list(dados[0].keys())[1:]\n",
    "    respostas_validas = list(range(1,tamanho+1))\n",
    "    respostas_validas = list(map(str, respostas_validas))\n",
    "\n",
    "    print('\\nCategorias Disponíveis para consulta:')\n",
    "    for i in range(tamanho):\n",
    "        print(1+i,'\\t',lista_categorias[i])\n",
    "    pergunta = 'Informe o número da categoria que deseja filtrar:'\n",
    "    resp = validacao_respostas(pergunta, respostas_validas)\n",
    "    chave = str(lista_categorias[int(resp)-1])\n",
    "\n",
    "    if type(dados[0][chave]) == str:\n",
    "        dados, chave, valor, operacao = filtro_categorico(dados, chave)\n",
    "          \n",
    "    elif type(dados[0][chave]) == int: \n",
    "        dados, chave, valor, operacao = filtro_numerico(dados, chave, int)\n",
    "    else: # float\n",
    "        dados, chave, valor, operacao = filtro_numerico(dados, chave, int)\n",
    "        \n",
    "    print(f'''Detalhes do filtro:\n",
    "              Categoria: {chave}\n",
    "              Valor:     {valor}\n",
    "              Operação:  {operacao}\n",
    "              ''')\n",
    "    dados_filtrados = filtro(dados, chave, valor, operacao)\n",
    "    \n",
    "    pergunta = '''O que deseja fazer com os dados filtros:\n",
    "    [1] Exibir na tela\n",
    "    [2] Exportar\n",
    "    '''\n",
    "    resp = validacao_respostas(pergunta, ['1','2'])\n",
    "    if resp == '1':\n",
    "        listar_dados(dados_filtrados)\n",
    "    else:\n",
    "        exportar_json(dados_filtrados)"
   ]
  },
  {
   "cell_type": "markdown",
   "metadata": {},
   "source": [
    "# Estatísticas"
   ]
  },
  {
   "cell_type": "markdown",
   "metadata": {},
   "source": [
    "## Função para calcular ticket médio"
   ]
  },
  {
   "cell_type": "code",
   "execution_count": 38,
   "metadata": {},
   "outputs": [],
   "source": [
    "def calcular_ticket_medio(dados):\n",
    "    \"\"\"\n",
    "    O ticket médio é um indicador usado para avaliar o gasto médio dos clientes.\n",
    "    Para calculá-lo, deve-se dividir o faturamento total das vendas pelo número de vendas do intervalo de tempo em questão.\n",
    "    \"\"\"\n",
    "    faturamento = 0\n",
    "    for item in dados:\n",
    "        faturamento = sum([faturamento, item[\"Preco\"]])\n",
    "    \n",
    "    transacoes = len(dados)\n",
    "\n",
    "    if transacoes == 0:\n",
    "        # Para evitar divisões por zero\n",
    "        return 0\n",
    "    else:\n",
    "        ticket_medio = faturamento / transacoes\n",
    "        return ticket_medio"
   ]
  },
  {
   "cell_type": "markdown",
   "metadata": {},
   "source": [
    "## Regra de Negócio"
   ]
  },
  {
   "cell_type": "code",
   "execution_count": 39,
   "metadata": {},
   "outputs": [
    {
     "ename": "SyntaxError",
     "evalue": "invalid syntax (2204531749.py, line 12)",
     "output_type": "error",
     "traceback": [
      "\u001b[1;36m  Cell \u001b[1;32mIn[39], line 12\u001b[1;36m\u001b[0m\n\u001b[1;33m    adicionar_registro(\"Grupo\" : \"A\")\u001b[0m\n\u001b[1;37m                               ^\u001b[0m\n\u001b[1;31mSyntaxError\u001b[0m\u001b[1;31m:\u001b[0m invalid syntax\n"
     ]
    }
   ],
   "source": [
    "def grupo_clientes(dados):\n",
    "    \"\"\"\n",
    "    A clusterização de clientes permite agrupá-los por alguma semelhança.\n",
    "    É um meio para entender o perfil de consumo dos clientes para que, de forma estratégica,\n",
    "      sejam criados ofertas personalizadas.\n",
    "    Nessa função os clientes serão separados em dois grupos:\n",
    "    - A: perfil de consumo a partir do ticket médio\n",
    "    - B: consome abaixo do ticket médio\n",
    "    \"\"\"\n",
    "    for itens in dados:\n",
    "        if Preco >= calcular_ticket_medio(dados):\n",
    "            adicionar_registro(\"Grupo\" : \"A\")\n",
    "        else:\n",
    "            adicionar_registro(\"Grupo\" : \"B\")"
   ]
  },
  {
   "cell_type": "markdown",
   "metadata": {},
   "source": [
    "# Função para exportar uma lista de dicionários para um arquivo .json"
   ]
  },
  {
   "cell_type": "code",
   "execution_count": null,
   "metadata": {},
   "outputs": [],
   "source": [
    "import json\n",
    "import os.path\n",
    "def exportar_json(lista_vendas: list):\n",
    "    \"\"\"\n",
    "    A função exporta a lista_vendas para um arquivo.\n",
    "    O arquivo será nomeado pelo usuário\n",
    "        Caso o arquivo já exista na pasta, o usuário será questionado se quer sobrescrever.\n",
    "    O arquivo será no formato .json\n",
    "    Será importado na mesma pasta que se encontra o script\n",
    "    Args:\n",
    "        lista_vendas (list): lista de dicionários com as informações de venda\n",
    "    \"\"\"\n",
    "    nome_arquivo = input(\"Informe o nome do arquivo a ser criado:\\t\").lower()\n",
    "    \n",
    "\n",
    "    # retirando os possíveis espaços do nome\n",
    "    qtd_espaco = nome_arquivo.count(' ')\n",
    "    if qtd_espaco > 0:\n",
    "        nome_arquivo =  nome_arquivo.replace(\" \", \"_\", qtd_espaco)\n",
    "    nome_arquivo += '.json'\n",
    "    \n",
    "    if os.path.exists(nome_arquivo) == True:\n",
    "        pergunta = 'Já existe um arquivo com esse nome.\\nDeseja sobrescrever?[S]  Sim\\t [N] Não\\t'\n",
    "        resp_sobrescrever = validacao_respostas(pergunta, ['S','N'])\n",
    "        if resp_sobrescrever == 'N':\n",
    "            print('O arquivo não foi modificado.')\n",
    "            resp_sobrescrever = validacao_respostas(pergunta, ['S','N'])\n",
    "            return\n",
    "    try:\n",
    "        json_vendas = json.dumps(lista_vendas, indent=2,ensure_ascii=False)\n",
    "        arquivo = open(nome_arquivo, 'w', encoding = \"utf-8\") \n",
    "        arquivo.write(json_vendas) \n",
    "        arquivo.close()\n",
    "        print(\"Arquivo exportado com sucesso!\")\n",
    "    except:\n",
    "        print(\"Erro ao exportar arquivo\")\n",
    "    return"
   ]
  },
  {
   "cell_type": "markdown",
   "metadata": {},
   "source": [
    "# Função Principal"
   ]
  },
  {
   "cell_type": "code",
<<<<<<< HEAD
   "execution_count": null,
=======
   "execution_count": 2,
>>>>>>> 92afd213cfda450b5425950d0b328c5c9ec7662a
   "metadata": {},
   "outputs": [
    {
     "ename": "NameError",
     "evalue": "name 'menu_importar_dados' is not defined",
     "output_type": "error",
     "traceback": [
      "\u001b[1;31m---------------------------------------------------------------------------\u001b[0m",
      "\u001b[1;31mNameError\u001b[0m                                 Traceback (most recent call last)",
      "\u001b[1;32me:\\Usuario\\Downloads\\Vem ser Tech\\Projeto_Mod02_Ada_VemSerTech\\Projeto_grupoB.ipynb Cell 49\u001b[0m line \u001b[0;36m4\n\u001b[0;32m     <a href='vscode-notebook-cell:/e%3A/Usuario/Downloads/Vem%20ser%20Tech/Projeto_Mod02_Ada_VemSerTech/Projeto_grupoB.ipynb#X64sZmlsZQ%3D%3D?line=42'>43</a>\u001b[0m             continua \u001b[39m=\u001b[39m \u001b[39m'\u001b[39m\u001b[39mN\u001b[39m\u001b[39m'\u001b[39m\n\u001b[0;32m     <a href='vscode-notebook-cell:/e%3A/Usuario/Downloads/Vem%20ser%20Tech/Projeto_Mod02_Ada_VemSerTech/Projeto_grupoB.ipynb#X64sZmlsZQ%3D%3D?line=43'>44</a>\u001b[0m     \u001b[39mprint\u001b[39m(\u001b[39m'\u001b[39m\u001b[39mSistema Encerrado!\u001b[39m\u001b[39m'\u001b[39m)   \n\u001b[1;32m---> <a href='vscode-notebook-cell:/e%3A/Usuario/Downloads/Vem%20ser%20Tech/Projeto_Mod02_Ada_VemSerTech/Projeto_grupoB.ipynb#X64sZmlsZQ%3D%3D?line=44'>45</a>\u001b[0m main()\n",
      "\u001b[1;32me:\\Usuario\\Downloads\\Vem ser Tech\\Projeto_Mod02_Ada_VemSerTech\\Projeto_grupoB.ipynb Cell 49\u001b[0m line \u001b[0;36m4\n\u001b[0;32m      <a href='vscode-notebook-cell:/e%3A/Usuario/Downloads/Vem%20ser%20Tech/Projeto_Mod02_Ada_VemSerTech/Projeto_grupoB.ipynb#X64sZmlsZQ%3D%3D?line=0'>1</a>\u001b[0m \u001b[39mdef\u001b[39;00m \u001b[39mmain\u001b[39m():\n\u001b[0;32m      <a href='vscode-notebook-cell:/e%3A/Usuario/Downloads/Vem%20ser%20Tech/Projeto_Mod02_Ada_VemSerTech/Projeto_grupoB.ipynb#X64sZmlsZQ%3D%3D?line=1'>2</a>\u001b[0m     \n\u001b[0;32m      <a href='vscode-notebook-cell:/e%3A/Usuario/Downloads/Vem%20ser%20Tech/Projeto_Mod02_Ada_VemSerTech/Projeto_grupoB.ipynb#X64sZmlsZQ%3D%3D?line=2'>3</a>\u001b[0m     \u001b[39m# importando dados iniciais\u001b[39;00m\n\u001b[1;32m----> <a href='vscode-notebook-cell:/e%3A/Usuario/Downloads/Vem%20ser%20Tech/Projeto_Mod02_Ada_VemSerTech/Projeto_grupoB.ipynb#X64sZmlsZQ%3D%3D?line=3'>4</a>\u001b[0m     dados \u001b[39m=\u001b[39m menu_importar_dados()\n\u001b[0;32m      <a href='vscode-notebook-cell:/e%3A/Usuario/Downloads/Vem%20ser%20Tech/Projeto_Mod02_Ada_VemSerTech/Projeto_grupoB.ipynb#X64sZmlsZQ%3D%3D?line=4'>5</a>\u001b[0m     \u001b[39m# iniciando o loop do menu\u001b[39;00m\n\u001b[0;32m      <a href='vscode-notebook-cell:/e%3A/Usuario/Downloads/Vem%20ser%20Tech/Projeto_Mod02_Ada_VemSerTech/Projeto_grupoB.ipynb#X64sZmlsZQ%3D%3D?line=6'>7</a>\u001b[0m     continua \u001b[39m=\u001b[39m \u001b[39m'\u001b[39m\u001b[39mS\u001b[39m\u001b[39m'\u001b[39m\n",
      "\u001b[1;31mNameError\u001b[0m: name 'menu_importar_dados' is not defined"
     ]
    }
   ],
   "source": [
    "def main():\n",
    "    \n",
    "    # importando dados iniciais\n",
    "    dados = menu_importar_dados()\n",
    "    # iniciando o loop do menu\n",
    "    \n",
    "    continua = 'S'\n",
    "    while continua =='S':\n",
    "        print('\\n - - - - - - - - - - - - - - - - - \\n')\n",
    "\n",
    "        pergunta = \"\"\"Qual ação deseja realizar?\n",
    "Para adicionar um registro             --- A\n",
    "Para remover um registro               --- R\n",
    "Para editar um registro                --- E\n",
    "Para leitura de registros              --- L\n",
    "Para mostrar a regra de negócio        --- N\n",
    "Para realizar estatística              --- S\n",
    "Para realizar filtro                   --- F\n",
    "Para exportar dados para JSON          --- J\n",
    "Para trocar banco de dados             --- T\n",
    "Para sair do menu                      --- Q\n",
    "        \"\"\"\n",
    "        opcao = validacao_respostas(pergunta, ['A','R','E','L','N','S','F','J','T','Q'])\n",
    "        if   opcao == 'A': \n",
    "            pass\n",
    "        elif opcao == 'R': \n",
    "            remover_arquivo(dados)\n",
    "        elif opcao == 'E':\n",
    "            dados = selecao_id_edicao(dados)\n",
    "        elif opcao == 'L':\n",
    "            menu_lista(dados)\n",
    "        elif opcao == 'N':\n",
    "            print(f'Valor do Ticket Médio:\\nR$ {calcular_ticket_medio(dados):.2f}\\n')\n",
    "        elif opcao == 'S': \n",
    "            pass\n",
    "        elif opcao == 'F':\n",
    "            opcoes_filtros(dados)\n",
    "        elif opcao == 'J':\n",
    "            exportar_json(dados)\n",
    "        elif opcao == 'T':\n",
    "            dados = menu_importar_dados()\n",
    "        else:\n",
    "            continua = 'N'\n",
    "    print('Sistema Encerrado!')   \n",
    "main()\n",
    "    "
   ]
  },
  {
   "cell_type": "code",
   "execution_count": null,
   "metadata": {},
   "outputs": [],
   "source": []
  }
 ],
 "metadata": {
  "kernelspec": {
   "display_name": "Python 3",
   "language": "python",
   "name": "python3"
  },
  "language_info": {
   "codemirror_mode": {
    "name": "ipython",
    "version": 3
   },
   "file_extension": ".py",
   "mimetype": "text/x-python",
   "name": "python",
   "nbconvert_exporter": "python",
   "pygments_lexer": "ipython3",
   "version": "3.10.0"
  }
 },
 "nbformat": 4,
 "nbformat_minor": 2
}
