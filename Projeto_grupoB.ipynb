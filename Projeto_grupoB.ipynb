{
 "cells": [
  {
   "cell_type": "markdown",
   "metadata": {},
   "source": [
    "# Projeto\n",
    "\n",
    "**Objetivo**: Desenvolver um CRUD utilizando um arquivo JSON para \"persistir\" os dados e aplicar algumas outras funcionalidades que seriam interessantes no sistema.\n",
    "\n",
    "**Requisitos**: O projeto deve conter as seguintes funcionalidades/ características:\n",
    "\n",
    "- Utilizar JSON para persistir os dados\n",
    "- Função de criar o arquivo JSON (amanda) OK\n",
    "- Função para adicionar registros (através do *input*, ou de um conjunto de dados históricos, por exemplo) (ricardo)\n",
    "    - Não deixar para o usuário decidir o id, apenas coloque o proximo valor disponível\n",
    "- Função para realizar o *udpate* (atualização) das informações (leticia)\n",
    "    - Selecionar pelo ID\n",
    "- Função para excluir registros (adriely)\n",
    "    - Selecionar pelo ID\n",
    "- Função para realizar a leitura de registros (printar os dados na tela do consumidor x, lista) (leticia)\n",
    "- Função para filtrar informações dos dados (Amanda) +/- OK\n",
    "- Função para aplicar alguma regra de negócio (varia de acordo com o sistema, exemplo, grupo criou um sistema de consulta de colaboradores, logo deseja-se ter uma função que calcula o faturamento de todos os funcionários que são vendedores) (lorrany)\n",
    "    - Utilizar as funções de filtro e de estatística\n",
    "- Função que retorne alguma estatística dos dados (lorrany)\n",
    "- menu (daniel)\n",
    "- Exemplos de funcionamento de cada uma das funções acima\n",
    "\n",
    "**Pontos importantes**:\n",
    "\n",
    "- Organização de código no ``jupyter notebook`` (não precisa de ppt, no dia apenas o notebook será necessário)\n",
    "- Definição sobre o que será o sistema (livre e definido pelo grupo)\n",
    "- Apresentação do sistema e funcionalidades (assim como os exemplos). Não precisa ser o grupo todo apresentando\n",
    "- Gerenciamento de erros, como no caso de num input o usuário colocar 'abc' num campo de valor inteiro\n",
    "- A nota do grupo será a nota de cada integrante\n",
    "- Tempo de apresentação: de 15 a 20 minutos\n",
    "- A princípio todos integrantes devem entregar o mesmo notebook no sistema do LMS, para fins de retorno de nota\n",
    "- Não precisa se ater somente aos 10 requisitos acima, pode ir além :)"
   ]
  },
  {
   "cell_type": "markdown",
   "metadata": {},
   "source": [
    "banco de dados\n",
    "https://www.kaggle.com/datasets/iamsouravbanerjee/customer-shopping-trends-dataset"
   ]
  },
  {
   "cell_type": "markdown",
   "metadata": {},
   "source": [
    "## Função para a leitura de dados de um csv ou json e transformação em uma lista de dicionários"
   ]
  },
  {
   "cell_type": "code",
   "execution_count": 5,
   "metadata": {},
   "outputs": [],
   "source": [
    "import json\n",
    "import csv\n",
    "def importar_dados(extensao:str):\n",
    "    dados = list()\n",
    "    \n",
    "    opcoes = arquivos_disponiveis(extensao)\n",
    "    respostas_validas = list(opcoes.keys())\n",
    "    pergunta = 'Informe o numero do arquivo que deseja importar'\n",
    "    str_arquivo = opcoes[validacao_respostas(pergunta, respostas_validas)]\n",
    "    \n",
    "    if extensao == '.json':\n",
    "        with open(str_arquivo, \"r\", encoding = \"utf-8\") as f:\n",
    "            dados = json.load(f)\n",
    "\n",
    "    else:\n",
    "        with open(str_arquivo, \"r\") as arquivo:\n",
    "            arquivo_csv = csv.reader(arquivo, delimiter=\",\")\n",
    "            next(arquivo_csv)  # pula a primeira linha (cabeçalho)\n",
    "            for linha in enumerate(arquivo_csv):\n",
    "                #print(linha)\n",
    "                Customer_ID, Age, Gender, Item_Purchased,Category, Purchase_Amount, Location, Size, Color, Season, Review_Rating, Subscription_Status, Payment_Method, Shipping_Type, Discount_Applied, Promo_Code_Used, Previous_Purchases, Preferred_Payment_Method, Frequency_of_Purchases = linha[1]\n",
    "                #print('ID', Customer_ID,'Idade', Age,'Genero', Gender,'Item_Comprado',Item_Purchased,\n",
    "                #                          'Categoria', Category,'Metodo_Pagamento', Payment_Method)\n",
    "                # \n",
    "                dados.append({'ID': int(Customer_ID), #numérica\n",
    "                                    'Idade': int(Age), #numérica\n",
    "                                    'Genero': Gender, #categórica\n",
    "                                    'Item_Comprado':Item_Purchased, #categórica\n",
    "                                    'Categoria': Category, #categórica\n",
    "                                    'Preco': float(Purchase_Amount), #numérica\n",
    "                                    'Metodo_Pagamento': Payment_Method, #categórica\n",
    "                                    'Quantidade_Compras_Anteriores': int(Previous_Purchases), #numérica\n",
    "                                    'Frequencia_Compra': Frequency_of_Purchases #categórica\n",
    "                                    })\n",
    "    return dados\n",
    "    "
   ]
  },
  {
   "cell_type": "markdown",
   "metadata": {},
   "source": [
    "# Traduzindo os valores retirados do CSV"
   ]
  },
  {
   "cell_type": "code",
   "execution_count": 2,
   "metadata": {},
   "outputs": [],
   "source": [
    "def traduzindo_lista_dict(lista: list):\n",
    "    for chave in list(lista[0].keys()):\n",
    "        if type(lista_vendas[0][chave]) == str:\n",
    "            categorias = lista_de_valores_sem_repeticoes(lista, chave)\n",
    "            dict_traducao = traduz_palavras(categorias)\n",
    "            for i in range(len(lista)):\n",
    "                lista[i][chave] = dict_traducao[lista[i][chave]]\n",
    "    return lista"
   ]
  },
  {
   "cell_type": "markdown",
   "metadata": {},
   "source": [
    "## Função para traduzir palavras"
   ]
  },
  {
   "cell_type": "code",
   "execution_count": 3,
   "metadata": {},
   "outputs": [
    {
     "ename": "ModuleNotFoundError",
     "evalue": "No module named 'translate'",
     "output_type": "error",
     "traceback": [
      "\u001b[1;31m---------------------------------------------------------------------------\u001b[0m",
      "\u001b[1;31mModuleNotFoundError\u001b[0m                       Traceback (most recent call last)",
      "\u001b[1;32mc:\\Users\\lorrany.aquino\\Desktop\\Projetos\\Projeto_Mod02_Ada_VemSerTech\\Projeto_grupoB.ipynb Cell 8\u001b[0m line \u001b[0;36m1\n\u001b[1;32m----> <a href='vscode-notebook-cell:/c%3A/Users/lorrany.aquino/Desktop/Projetos/Projeto_Mod02_Ada_VemSerTech/Projeto_grupoB.ipynb#X10sZmlsZQ%3D%3D?line=0'>1</a>\u001b[0m \u001b[39mfrom\u001b[39;00m \u001b[39mtranslate\u001b[39;00m \u001b[39mimport\u001b[39;00m Translator\n\u001b[0;32m      <a href='vscode-notebook-cell:/c%3A/Users/lorrany.aquino/Desktop/Projetos/Projeto_Mod02_Ada_VemSerTech/Projeto_grupoB.ipynb#X10sZmlsZQ%3D%3D?line=1'>2</a>\u001b[0m \u001b[39mdef\u001b[39;00m \u001b[39mtraduz_palavras\u001b[39m(lista_de_palavras):\n\u001b[0;32m      <a href='vscode-notebook-cell:/c%3A/Users/lorrany.aquino/Desktop/Projetos/Projeto_Mod02_Ada_VemSerTech/Projeto_grupoB.ipynb#X10sZmlsZQ%3D%3D?line=2'>3</a>\u001b[0m \u001b[39m  \u001b[39m\u001b[39m\"\"\"\u001b[39;00m\n\u001b[0;32m      <a href='vscode-notebook-cell:/c%3A/Users/lorrany.aquino/Desktop/Projetos/Projeto_Mod02_Ada_VemSerTech/Projeto_grupoB.ipynb#X10sZmlsZQ%3D%3D?line=3'>4</a>\u001b[0m \u001b[39m  Recebe uma lista de palavras em inglês e retorna um dicionário onde \u001b[39;00m\n\u001b[0;32m      <a href='vscode-notebook-cell:/c%3A/Users/lorrany.aquino/Desktop/Projetos/Projeto_Mod02_Ada_VemSerTech/Projeto_grupoB.ipynb#X10sZmlsZQ%3D%3D?line=4'>5</a>\u001b[0m \u001b[39m  a chave é a palavra da lista e o valor é a tradução em português.\u001b[39;00m\n\u001b[1;32m   (...)\u001b[0m\n\u001b[0;32m     <a href='vscode-notebook-cell:/c%3A/Users/lorrany.aquino/Desktop/Projetos/Projeto_Mod02_Ada_VemSerTech/Projeto_grupoB.ipynb#X10sZmlsZQ%3D%3D?line=10'>11</a>\u001b[0m \u001b[39m    Um dicionário.\u001b[39;00m\n\u001b[0;32m     <a href='vscode-notebook-cell:/c%3A/Users/lorrany.aquino/Desktop/Projetos/Projeto_Mod02_Ada_VemSerTech/Projeto_grupoB.ipynb#X10sZmlsZQ%3D%3D?line=11'>12</a>\u001b[0m \u001b[39m  \"\"\"\u001b[39;00m\n",
      "\u001b[1;31mModuleNotFoundError\u001b[0m: No module named 'translate'"
     ]
    }
   ],
   "source": [
    "\n",
    "from translate import Translator\n",
    "def traduz_palavras(lista_de_palavras):\n",
    "  \"\"\"\n",
    "  Recebe uma lista de palavras em inglês e retorna um dicionário onde \n",
    "  a chave é a palavra da lista e o valor é a tradução em português.\n",
    "\n",
    "  Args:\n",
    "    lista_de_palavras: Uma lista de palavras em inglês.\n",
    "\n",
    "  Returns:\n",
    "    Um dicionário.\n",
    "  \"\"\"\n",
    "  dicionario_de_traducao = {}\n",
    "  for palavra in lista_de_palavras:\n",
    "    traducao = Translator(to_lang='pt-br', from_lang='english')\n",
    "    dicionario_de_traducao[palavra] = traducao.translate(palavra)\n",
    "  return dicionario_de_traducao\n"
   ]
  },
  {
   "cell_type": "markdown",
   "metadata": {},
   "source": [
    "# Função que retorna uma lista de valores sem repetição"
   ]
  },
  {
   "cell_type": "code",
   "execution_count": null,
   "metadata": {},
   "outputs": [],
   "source": [
    "def lista_de_valores_sem_repeticoes(lista_de_dicionarios, chave):\n",
    "  \"\"\"\n",
    "  Recebe uma lista de dicionários.\n",
    "  A função retorna lista dos valores encontrados para a chave, sem repetições de valores.\n",
    "\n",
    "  Args:\n",
    "    lista_de_dicionarios: Uma lista de dicionários.\n",
    "    chave: A chave a ser pesquisada.\n",
    "\n",
    "  Returns:\n",
    "    Uma lista.\n",
    "  \"\"\"\n",
    "  lista_de_valores = set()\n",
    "  for dicionario in lista_de_dicionarios:\n",
    "    if chave in dicionario:\n",
    "      lista_de_valores.add(dicionario[chave])\n",
    "  return list(lista_de_valores)"
   ]
  },
  {
   "cell_type": "markdown",
   "metadata": {},
   "source": [
    "# Função que lista os arquivos disponíveis"
   ]
  },
  {
   "cell_type": "code",
   "execution_count": null,
   "metadata": {},
   "outputs": [],
   "source": [
    "import os\n",
    "def arquivos_disponiveis(extensao: str):\n",
    "    pergunta = 'Informe o numero do arquivo que deseja importar'\n",
    "    opcoes = dict()\n",
    "    arquivos = os.listdir() # lista todos os arquivos presentes na pasta\n",
    "    arquivos_extensao = [arquivo for arquivo in arquivos if arquivo.endswith(extensao)] # filtra pela extensao\n",
    "    print(f'Lista de arquivos {extensao.upper()} disponíveis')\n",
    "    for i in range(len(arquivos_extensao)):\n",
    "        print(f'\\t{i+1}\\t{arquivos_extensao[i]}')\n",
    "        opcoes.update({str(i+1):arquivos_extensao[i]})\n",
    "    return opcoes\n",
    "        "
   ]
  },
  {
   "cell_type": "markdown",
   "metadata": {},
   "source": [
    "## Função de filtro"
   ]
  },
  {
   "cell_type": "code",
   "execution_count": null,
   "metadata": {},
   "outputs": [],
   "source": [
    "def filtro(lista: list, categoria:str, valor_categoria, tipo:str):\n",
    "    if tipo == 'Categorico':\n",
    "        filtro = [ i for i in lista if i[categoria] == valor_categoria]\n",
    "    if tipo == 'Maior que':\n",
    "        filtro = [ i for i in lista if i[categoria] > valor_categoria]\n",
    "    if tipo == 'Maior e iqual a':\n",
    "        filtro = [ i for i in lista if i[categoria] >= valor_categoria]\n",
    "    if tipo == 'Menor que':\n",
    "        filtro = [ i for i in lista if i[categoria] < valor_categoria]\n",
    "    if tipo == 'Menor e iqual a':\n",
    "        filtro = [ i for i in lista if i[categoria] <= valor_categoria]\n",
    "    if tipo == 'Igual a':\n",
    "        filtro = [ i for i in lista if i[categoria] == valor_categoria]\n",
    "    return filtro\n",
    "    \n",
    "    \n",
    "dados_filtrados = filtro(dados_traduzidos, 'Idade',30,'Maior e iqual a')"
   ]
  },
  {
   "cell_type": "markdown",
   "metadata": {},
   "source": [
    "## Função para validação de respostas do usuário"
   ]
  },
  {
   "cell_type": "code",
   "execution_count": null,
   "metadata": {},
   "outputs": [],
   "source": [
    "def validacao_respostas(pergunta, respostas_validas):\n",
    "  \"\"\"\n",
    "  Validação de respostas. A função valida respostas de um caracter\n",
    "  É passado como parâmetro:\n",
    "    - A pergunta que se quer fazer (str)\n",
    "    - Uma lista com as respostas válidas\n",
    "\n",
    "  Caso o usuário digite algo diferente das respostas válidas,\n",
    "  a função repetirá a pergunta até que o usuário responda um valor válido.\n",
    "  E só retornará opções válidas de valores\n",
    "  \"\"\"\n",
    "  print(pergunta)\n",
    "  resp = input().upper()[0]# apenas 1ªletra\n",
    "  pergunta = 'Resposta inválida! ' + pergunta\n",
    "  while not resp in respostas_validas:\n",
    "    print(pergunta)\n",
    "    resp = input().upper()[0]# apenas 1ªletra\n",
    "    #resp = input(pergunta).upper()[0]# apenas 1ªletra\n",
    "  return resp"
   ]
  },
  {
   "cell_type": "markdown",
   "metadata": {},
   "source": [
    "## Função para exportar uma lista de dicionários para um arquivo .json"
   ]
  },
  {
   "cell_type": "code",
   "execution_count": null,
   "metadata": {},
   "outputs": [],
   "source": [
    "import json\n",
    "import os.path\n",
    "def exportar_json(lista_vendas: list):\n",
    "    \"\"\"\n",
    "    A função exporta a lista_vendas para um arquivo.\n",
    "    O arquivo será nomeado pelo usuário\n",
    "        Caso o arquivo já exista na pasta, o usuário será questionado se quer sobrescrever.\n",
    "    O arquivo será no formato .json\n",
    "    Será importado na mesma pasta que se encontra o script\n",
    "    Args:\n",
    "        lista_vendas (list): lista de dicionários com as informações de venda\n",
    "    \"\"\"\n",
    "    nome_arquivo = input(\"Informe o nome do arquivo a ser criado:\\t\").lower()\n",
    "    \n",
    "\n",
    "    # retirando os possíveis espaços do nome\n",
    "    qtd_espaco = nome_arquivo.count(' ')\n",
    "    if qtd_espaco > 0:\n",
    "        nome_arquivo =  nome_arquivo.replace(\" \", \"_\", qtd_espaco)\n",
    "    nome_arquivo += '.json'\n",
    "    \n",
    "    if os.path.exists(nome_arquivo) == True:\n",
    "        pergunta = 'Já existe um arquivo com esse nome.\\nDeseja sobrescrever?[S]  Sim\\t [N] Não\\t'\n",
    "        resp_sobrescrever = validacao_respostas(pergunta, ['S','N'])\n",
    "        if resp_sobrescrever == 'N':\n",
    "            print('O arquivo não foi modificado.')\n",
    "            return\n",
    "    try:\n",
    "        json_vendas = json.dumps(lista_vendas, indent=2,ensure_ascii=False)\n",
    "        arquivo = open(nome_arquivo, 'w', encoding = \"utf-8\") \n",
    "        arquivo.write(json_vendas) \n",
    "        arquivo.close()\n",
    "        print(\"Arquivo exportado com sucesso!\")\n",
    "    except:\n",
    "        print(\"Erro ao exportar arquivo\")\n",
    "    return"
   ]
  },
  {
   "cell_type": "markdown",
   "metadata": {},
   "source": [
    "# Menu filtros"
   ]
  },
  {
   "cell_type": "code",
   "execution_count": null,
   "metadata": {},
   "outputs": [],
   "source": [
    "def opcoes_filtros(dados:list):\n",
    "    tamanho = len(list(dados[0].keys())[1:])\n",
    "    lista_categorias = list(dados[0].keys())[1:]\n",
    "    respostas_validas = list(range(1,tamanho+1))\n",
    "    respostas_validas = list(map(str, respostas_validas))\n",
    "\n",
    "    print('\\nCategorias Disponíveis para consulta:')\n",
    "    for i in range(tamanho):\n",
    "        print(1+i,'\\t',lista_categorias[i])\n",
    "    pergunta = 'Informe o número da categoria que deseja filtrar:'\n",
    "    resp = validacao_respostas(pergunta, respostas_validas)\n",
    "    chave = lista_categorias[int(resp)-1]\n",
    "    if type(dados[0][chave]) == str:\n",
    "        pergunta = f'Informe o número da opção voce quer filtrar dentro de {chave}: '\n",
    "        opcoes = lista_de_valores_sem_repeticoes(dados, chave)\n",
    "        respostas_validas = list(range(1,len(opcoes)))\n",
    "        respostas_validas = list(map(str, respostas_validas))\n",
    "        print(f'\\nLista de opções dentro da categoria {chave}')\n",
    "        for i in range(len(opcoes)):\n",
    "            print(1+i,'\\t',opcoes[i])\n",
    "        resp = validacao_respostas(pergunta, respostas_validas)\n",
    "        opcao = opcoes[int(resp)-1]\n",
    "        print(filtro(dados, chave, opcao, 'Categorico'))\n",
    "    else: # numeros reais ou inteiros\n",
    "        pass"
   ]
  },
  {
   "cell_type": "markdown",
   "metadata": {},
   "source": [
    "## Detectar idioma"
   ]
  },
  {
   "cell_type": "code",
   "execution_count": null,
   "metadata": {},
   "outputs": [],
   "source": [
    "from langdetect import detect \n",
    "def detectar_idioma(dados:list):\n",
    "    if detect(dados[0]['Metodo_Pagamento']) == 'en':\n",
    "        pergunta = 'Os dados estão em inglês, deseja traduzir?[S] Sim  [N] Não\\t'\n",
    "        resp = validacao_respostas(pergunta, ['S','N'])\n",
    "        if resp == 'S':\n",
    "            print(\"Essa operação pode demorar, aguarde.\")\n",
    "            dados = traduzindo_lista_dict(dados)\n",
    "    return dados\n"
   ]
  },
  {
   "cell_type": "markdown",
   "metadata": {},
   "source": [
    "# Função Principal"
   ]
  },
  {
   "cell_type": "code",
   "execution_count": null,
   "metadata": {},
   "outputs": [],
   "source": [
    "def main():\n",
    "    \n",
    "    pergunta = \"\"\"Que tipo de arquivo deseja importar:\n",
    "      1 \\t CSV\n",
    "      2 \\t JSON\n",
    "      3 \\t Não importar nada   \"\"\"\n",
    "    resp =  validacao_respostas(pergunta, ['1','2','3'])\n",
    "    if   resp == '1':\n",
    "        dados = importar_dados('.csv')\n",
    "        detectar_idioma(dados)\n",
    "    elif resp == '2':\n",
    "        dados = importar_dados('.json')\n",
    "        detectar_idioma(dados)\n",
    "    else:\n",
    "        dados = list()\n",
    "        \n",
    "    continua = 'S'\n",
    "    while continua =='S':\n",
    "        pergunta = \"\"\"Qual ação deseja realizar?\n",
    "        Para adicionar um registro             --- A\n",
    "        Para remover um registro               --- R\n",
    "        Para editar informações                --- E\n",
    "        Para leitura de registro               --- L\n",
    "        Para mostrar a regra de negócio        --- N\n",
    "        Para realizar estatística              --- S\n",
    "        Para realizar filtro                   --- F\n",
    "        \"\"\"\n",
    "        opcao = validacao_respostas(pergunta, ['A','R','E','L','N','S','F'])\n",
    "        if   opcao == 'A': #ricardo\n",
    "            pass\n",
    "        elif opcao == 'R': #leticia\n",
    "            pass\n",
    "        elif opcao == 'E': #adriely\n",
    "            pass\n",
    "        elif opcao == 'L': #leticia\n",
    "            pass\n",
    "        elif opcao == 'N': #lorrany\n",
    "            pass\n",
    "        elif opcao == 'S': #lorrany\n",
    "            pass\n",
    "        else: #filtro #amanda\n",
    "            pass\n",
    "        \n",
    "        pergunta = 'Deseja continuar no menu? [S]/[N]\\t'\n",
    "        continua = validacao_respostas(pergunta, ['S', 'N'])\n",
    "        \n",
    "main()\n",
    "    "
   ]
  },
  {
   "cell_type": "markdown",
   "metadata": {},
   "source": [
    "# Estatísticas"
   ]
  },
  {
   "cell_type": "markdown",
   "metadata": {},
   "source": [
    "## Função para calcular o Ticket Médio"
   ]
  },
  {
   "cell_type": "code",
   "execution_count": 22,
   "metadata": {},
   "outputs": [],
   "source": [
    "def calcular_ticket_medio(dados):\n",
    "    \"\"\"\n",
    "    O ticket médio é um indicador usado para avaliar o gasto médio dos clientes.\n",
    "    Para calculá-lo, deve-se dividir o faturamento total das vendas pelo número de vendas do intervalo de tempo em questão.\n",
    "    \"\"\"\n",
    "    faturamento = 0\n",
    "    for item in dados:\n",
    "        faturamento = sum([faturamento, item[\"Preco\"]])\n",
    "    \n",
    "    transacoes = len(dados)\n",
    "\n",
    "    if transacoes == 0:\n",
    "        # Para evitar divisões por zero\n",
    "        return 0\n",
    "    else:\n",
    "        ticket_medio = faturamento / transacoes\n",
    "        return ticket_medio"
   ]
  },
  {
   "cell_type": "code",
   "execution_count": 24,
   "metadata": {},
   "outputs": [
    {
     "data": {
      "text/plain": [
       "'O ticket médio é: R$63.33'"
      ]
     },
     "execution_count": 24,
     "metadata": {},
     "output_type": "execute_result"
    }
   ],
   "source": [
    "dados1 = [\n",
    "    {\n",
    "        \"ID\": 1,\n",
    "        \"Idade\": 55,\n",
    "        \"Genero\": \"Homem\",\n",
    "        \"Item_Comprado\": \"Blusa\",\n",
    "        \"Categoria\": \"Vestuário\",\n",
    "        \"Preco\": 53.0,\n",
    "        \"Metodo_Pagamento\": \"Cartão de Crédito\",\n",
    "        \"Quantidade_Compras_Anteriores\": 14,\n",
    "        \"Frequencia_Compra\": \"Quinzenalmente\"\n",
    "    },\n",
    "    {\n",
    "        \"ID\": 2,\n",
    "        \"Idade\": 19,\n",
    "        \"Genero\": \"Homem\",\n",
    "        \"Item_Comprado\": \"Agasalho\",\n",
    "        \"Categoria\": \"Vestuário\",\n",
    "        \"Preco\": 64.0,\n",
    "        \"Metodo_Pagamento\": \"Transferência Bancária\",\n",
    "        \"Quantidade_Compras_Anteriores\": 2,\n",
    "        \"Frequencia_Compra\": \"Quinzenalmente\"\n",
    "    },\n",
    "    {\n",
    "        \"ID\": 3,\n",
    "        \"Idade\": 50,\n",
    "        \"Genero\": \"Homem\",\n",
    "        \"Item_Comprado\": \"Jeans\",\n",
    "        \"Categoria\": \"Vestuário\",\n",
    "        \"Preco\": 73.0,\n",
    "        \"Metodo_Pagamento\": \"dinheiro\",\n",
    "        \"Quantidade_Compras_Anteriores\": 23,\n",
    "        \"Frequencia_Compra\": \"Toda semana\"\n",
    "    }\n",
    "]\n",
    "\n",
    "calcular_ticket_medio(dados1)"
   ]
  },
  {
   "cell_type": "markdown",
   "metadata": {},
   "source": [
    "# Regra de negócio"
   ]
  },
  {
   "cell_type": "code",
   "execution_count": null,
   "metadata": {},
   "outputs": [],
   "source": [
    "def grupo_clientes(dados):\n",
    "    \"\"\"\n",
    "    A clusterização de clientes permite agrupá-los por alguma semelhança.\n",
    "    É um meio para entender o perfil de consumo dos clientes para que, de forma estratégica,\n",
    "      sejam criados ofertas personalizadas.\n",
    "    Nessa função os clientes serão separados em dois grupos:\n",
    "    - A: perfil de consumo a partir do ticket médio\n",
    "    - B: consome abaixo do ticket médio\n",
    "    \"\"\"\n",
    "    for itens in dados:\n",
    "        if Preco >= calcular_ticket_medio(dados):\n",
    "            adicionar_registro(\"Grupo\" : \"A\")\n",
    "        else:\n",
    "            adicionar_registro(\"Grupo\" : \"B\")"
   ]
  }
 ],
 "metadata": {
  "kernelspec": {
   "display_name": "Python 3",
   "language": "python",
   "name": "python3"
  },
  "language_info": {
   "codemirror_mode": {
    "name": "ipython",
    "version": 3
   },
   "file_extension": ".py",
   "mimetype": "text/x-python",
   "name": "python",
   "nbconvert_exporter": "python",
   "pygments_lexer": "ipython3",
   "version": "3.12.0"
  }
 },
 "nbformat": 4,
 "nbformat_minor": 2
}
