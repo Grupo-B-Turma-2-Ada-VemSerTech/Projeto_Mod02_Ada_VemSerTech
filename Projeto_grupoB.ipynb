{
 "cells": [
  {
   "cell_type": "markdown",
   "metadata": {},
   "source": [
    "# Projeto\n",
    "\n",
    "**Objetivo**: Desenvolver um CRUD utilizando um arquivo JSON para \"persistir\" os dados e aplicar algumas outras funcionalidades que seriam interessantes no sistema.\n",
    "\n",
    "**Requisitos**: O projeto deve conter as seguintes funcionalidades/ características:\n",
    "\n",
    "- Utilizar JSON para persistir os dados\n",
    "- Função de criar o arquivo JSON (amanda) OK\n",
    "- Função para adicionar registros (através do *input*, ou de um conjunto de dados históricos, por exemplo) (ricardo)\n",
    "- Função para realizar o *udpate* (atualização) das informações (leticia)\n",
    "- Função para excluir registros (adriely)\n",
    "- Função para realizar a leitura de registros (printar os dados na tela do consumidor x, lista) (leticia)\n",
    "- Função para filtrar informações dos dados (Amanda)\n",
    "- Função para aplicar alguma regra de negócio (varia de acordo com o sistema, exemplo, grupo criou um sistema de consulta de colaboradores, logo deseja-se ter uma função que calcula o faturamento de todos os funcionários que são vendedores) (lorrany)\n",
    "- Função que retorne alguma estatística dos dados (lorrany)\n",
    "- menu (daniel)\n",
    "- Exemplos de funcionamento de cada uma das funções acima\n",
    "\n",
    "**Pontos importantes**:\n",
    "\n",
    "- Organização de código no ``jupyter notebook`` (não precisa de ppt, no dia apenas o notebook será necessário)\n",
    "- Definição sobre o que será o sistema (livre e definido pelo grupo)\n",
    "- Apresentação do sistema e funcionalidades (assim como os exemplos). Não precisa ser o grupo todo apresentando\n",
    "- Gerenciamento de erros, como no caso de num input o usuário colocar 'abc' num campo de valor inteiro\n",
    "- A nota do grupo será a nota de cada integrante\n",
    "- Tempo de apresentação: de 15 a 20 minutos\n",
    "- A princípio todos integrantes devem entregar o mesmo notebook no sistema do LMS, para fins de retorno de nota\n",
    "- Não precisa se ater somente aos 10 requisitos acima, pode ir além :)"
   ]
  },
  {
   "cell_type": "markdown",
   "metadata": {},
   "source": [
    "banco de dados\n",
    "https://www.kaggle.com/datasets/iamsouravbanerjee/customer-shopping-trends-dataset"
   ]
  },
  {
   "cell_type": "markdown",
   "metadata": {},
   "source": [
    "## Função para a leitura de dados de um csv e transformação em uma lista de dicionários"
   ]
  },
  {
   "cell_type": "code",
   "execution_count": 174,
   "metadata": {},
   "outputs": [
    {
     "name": "stdout",
     "output_type": "stream",
     "text": [
      "Lista de arquivos .CSV disponíveis\n",
      "1\tshopping_trends.csv\n"
     ]
    }
   ],
   "source": [
    "import csv\n",
    "def leitura_csv():\n",
    "    lista_vendas = list()\n",
    "    opcoes = arquivos_disponiveis('.csv')\n",
    "    \n",
    "    with open(\"shopping_trends.csv\", \"r\") as arquivo:\n",
    "        arquivo_csv = csv.reader(arquivo, delimiter=\",\")\n",
    "        next(arquivo_csv)  # pula a primeira linha (cabeçalho)\n",
    "        for linha in enumerate(arquivo_csv):\n",
    "            #print(linha)\n",
    "            Customer_ID, Age, Gender, Item_Purchased,Category, Purchase_Amount, Location, Size, Color, Season, Review_Rating, Subscription_Status, Payment_Method, Shipping_Type, Discount_Applied, Promo_Code_Used, Previous_Purchases, Preferred_Payment_Method, Frequency_of_Purchases = linha[1]\n",
    "            #print('ID', Customer_ID,'Idade', Age,'Genero', Gender,'Item_Comprado',Item_Purchased,\n",
    "            #                          'Categoria', Category,'Metodo_Pagamento', Payment_Method)\n",
    "            # \n",
    "            lista_vendas.append({'ID': int(Customer_ID), #numérica\n",
    "                                'Idade': int(Age), #numérica\n",
    "                                'Genero': Gender, #categórica\n",
    "                                'Item_Comprado':Item_Purchased, #categórica\n",
    "                                'Categoria': Category, #categórica\n",
    "                                'Preco': float(Purchase_Amount), #numérica\n",
    "                                'Metodo_Pagamento': Payment_Method, #categórica\n",
    "                                'Quantidade_Compras_Anteriores': int(Previous_Purchases), #numérica\n",
    "                                'Frequencia_Compra': Frequency_of_Purchases #categórica\n",
    "                                })\n",
    "    return lista_vendas\n",
    "lista_vendas = leitura_csv()\n"
   ]
  },
  {
   "cell_type": "markdown",
   "metadata": {},
   "source": [
    "# Traduzir os valores da variável ``lista_vendas()``"
   ]
  },
  {
   "cell_type": "code",
   "execution_count": 124,
   "metadata": {},
   "outputs": [],
   "source": [
    "def traduzindo_lista_dict(lista: list):\n",
    "    for chave in list(lista[0].keys()):\n",
    "        #print(lista_vendas[0][chave])\n",
    "        if type(lista_vendas[0][chave]) == str:\n",
    "            categorias = lista_de_valores_sem_repeticoes(lista, chave)\n",
    "            dict_traducao = traduz_palavras(categorias)\n",
    "            for i in range(len(lista)):\n",
    "                lista[i][chave] = dict_traducao[lista[i][chave]]\n",
    "    return lista"
   ]
  },
  {
   "cell_type": "markdown",
   "metadata": {},
   "source": [
    "## Função que retorna uma lista de valores sem repetição"
   ]
  },
  {
   "cell_type": "code",
   "execution_count": 67,
   "metadata": {},
   "outputs": [],
   "source": [
    "def lista_de_valores_sem_repeticoes(lista_de_dicionarios, chave):\n",
    "  \"\"\"\n",
    "  Recebe uma lista de dicionários.\n",
    "  A função retorna lista dos valores encontrados para a chave, sem repetições de valores.\n",
    "\n",
    "  Args:\n",
    "    lista_de_dicionarios: Uma lista de dicionários.\n",
    "    chave: A chave a ser pesquisada.\n",
    "\n",
    "  Returns:\n",
    "    Uma lista.\n",
    "  \"\"\"\n",
    "  lista_de_valores = set()\n",
    "  for dicionario in lista_de_dicionarios:\n",
    "    if chave in dicionario:\n",
    "      lista_de_valores.add(dicionario[chave])\n",
    "  return list(lista_de_valores)"
   ]
  },
  {
   "cell_type": "markdown",
   "metadata": {},
   "source": [
    "## Função para traduzir palavras"
   ]
  },
  {
   "cell_type": "code",
   "execution_count": 130,
   "metadata": {},
   "outputs": [],
   "source": [
    "\n",
    "from translate import Translator\n",
    "def traduz_palavras(lista_de_palavras):\n",
    "  \"\"\"\n",
    "  Recebe uma lista de palavras em inglês e retorna um dicionário onde \n",
    "  a chave é a palavra da lista e o valor é a tradução em português.\n",
    "\n",
    "  Args:\n",
    "    lista_de_palavras: Uma lista de palavras em inglês.\n",
    "\n",
    "  Returns:\n",
    "    Um dicionário.\n",
    "  \"\"\"\n",
    "  dicionario_de_traducao = {}\n",
    "  for palavra in lista_de_palavras:\n",
    "    traducao = Translator(to_lang='pt-br', from_lang='english')\n",
    "    dicionario_de_traducao[palavra] = traducao.translate(palavra)\n",
    "  return dicionario_de_traducao\n"
   ]
  },
  {
   "cell_type": "markdown",
   "metadata": {},
   "source": [
    "## Exportando os dados traduzidos"
   ]
  },
  {
   "cell_type": "code",
   "execution_count": 132,
   "metadata": {},
   "outputs": [],
   "source": [
    "lista_vendas = leitura_csv()\n",
    "lista_vendas_trad = traduzindo_lista_dict(lista_vendas)"
   ]
  },
  {
   "cell_type": "code",
   "execution_count": 139,
   "metadata": {},
   "outputs": [
    {
     "name": "stdout",
     "output_type": "stream",
     "text": [
      "Arquivo exportado com sucesso!\n"
     ]
    }
   ],
   "source": [
    "exportar_json(lista_vendas_trad)"
   ]
  },
  {
   "cell_type": "markdown",
   "metadata": {},
   "source": [
    "# Importando arquivo JSON"
   ]
  },
  {
   "cell_type": "code",
   "execution_count": 173,
   "metadata": {},
   "outputs": [],
   "source": [
    "import json\n",
    "def importar_dados_json():\n",
    "    opcoes = arquivos_disponiveis('.json')\n",
    "    respostas_validas = list(opcoes.keys())\n",
    "    arquivo = opcoes[validacao_respostas(pergunta, respostas_validas)]\n",
    "\n",
    "    with open(arquivo, \"r\", encoding = \"utf-8\") as f:\n",
    "        dados = json.load(f)\n",
    "    return dados"
   ]
  },
  {
   "cell_type": "markdown",
   "metadata": {},
   "source": [
    "# Função que lista os arquivos disponíveis"
   ]
  },
  {
   "cell_type": "code",
   "execution_count": 172,
   "metadata": {},
   "outputs": [],
   "source": [
    "import os\n",
    "def arquivos_disponiveis(extensao: str):\n",
    "    pergunta = 'Informe o numero do arquivo que deseja importar'\n",
    "    opcoes = dict()\n",
    "    arquivos = os.listdir() # lista todos os arquivos presentes na pasta\n",
    "    arquivos_extensao = [arquivo for arquivo in arquivos if arquivo.endswith(extensao)] # filtra pela extensao\n",
    "    print(f'Lista de arquivos {extensao.upper()} disponíveis')\n",
    "    for i in range(len(arquivos_extensao)):\n",
    "        print(f'{i+1}\\t{arquivos_extensao[i]}')\n",
    "        opcoes.update({str(i+1):arquivos_extensao[i]})\n",
    "    return opcoes\n",
    "        "
   ]
  },
  {
   "cell_type": "markdown",
   "metadata": {},
   "source": [
    "## Função de filtro"
   ]
  },
  {
   "cell_type": "code",
   "execution_count": 168,
   "metadata": {},
   "outputs": [
    {
     "ename": "TypeError",
     "evalue": "'>' not supported between instances of 'str' and 'int'",
     "output_type": "error",
     "traceback": [
      "\u001b[1;31m---------------------------------------------------------------------------\u001b[0m",
      "\u001b[1;31mTypeError\u001b[0m                                 Traceback (most recent call last)",
      "\u001b[1;32md:\\Documentos\\Cursos e Treinamentos\\ADA Tech\\Lógica de Programação II\\Projeto_Mod02_Ada_VemSerTech\\Projeto_grupoB.ipynb Cell 19\u001b[0m line \u001b[0;36m1\n\u001b[0;32m     <a href='vscode-notebook-cell:/d%3A/Documentos/Cursos%20e%20Treinamentos/ADA%20Tech/L%C3%B3gica%20de%20Programa%C3%A7%C3%A3o%20II/Projeto_Mod02_Ada_VemSerTech/Projeto_grupoB.ipynb#W6sZmlsZQ%3D%3D?line=12'>13</a>\u001b[0m         filtro \u001b[39m=\u001b[39m [ i \u001b[39mfor\u001b[39;00m i \u001b[39min\u001b[39;00m lista \u001b[39mif\u001b[39;00m i[categoria] \u001b[39m==\u001b[39m valor_comparacao]\n\u001b[0;32m     <a href='vscode-notebook-cell:/d%3A/Documentos/Cursos%20e%20Treinamentos/ADA%20Tech/L%C3%B3gica%20de%20Programa%C3%A7%C3%A3o%20II/Projeto_Mod02_Ada_VemSerTech/Projeto_grupoB.ipynb#W6sZmlsZQ%3D%3D?line=13'>14</a>\u001b[0m     \u001b[39mreturn\u001b[39;00m filtro\n\u001b[1;32m---> <a href='vscode-notebook-cell:/d%3A/Documentos/Cursos%20e%20Treinamentos/ADA%20Tech/L%C3%B3gica%20de%20Programa%C3%A7%C3%A3o%20II/Projeto_Mod02_Ada_VemSerTech/Projeto_grupoB.ipynb#W6sZmlsZQ%3D%3D?line=16'>17</a>\u001b[0m filtro(lista_vendas_trad, \u001b[39m'\u001b[39;49m\u001b[39mGenero\u001b[39;49m\u001b[39m'\u001b[39;49m,\u001b[39m'\u001b[39;49m\u001b[39mPreco\u001b[39;49m\u001b[39m'\u001b[39;49m,\u001b[39m'\u001b[39;49m\u001b[39mMaior que\u001b[39;49m\u001b[39m'\u001b[39;49m, valor_comparacao \u001b[39m=\u001b[39;49m \u001b[39m30\u001b[39;49m)\n",
      "\u001b[1;32md:\\Documentos\\Cursos e Treinamentos\\ADA Tech\\Lógica de Programação II\\Projeto_Mod02_Ada_VemSerTech\\Projeto_grupoB.ipynb Cell 19\u001b[0m line \u001b[0;36m5\n\u001b[0;32m      <a href='vscode-notebook-cell:/d%3A/Documentos/Cursos%20e%20Treinamentos/ADA%20Tech/L%C3%B3gica%20de%20Programa%C3%A7%C3%A3o%20II/Projeto_Mod02_Ada_VemSerTech/Projeto_grupoB.ipynb#W6sZmlsZQ%3D%3D?line=2'>3</a>\u001b[0m     filtro \u001b[39m=\u001b[39m [ i \u001b[39mfor\u001b[39;00m i \u001b[39min\u001b[39;00m lista \u001b[39mif\u001b[39;00m i[categoria] \u001b[39m==\u001b[39m valor_categoria]\n\u001b[0;32m      <a href='vscode-notebook-cell:/d%3A/Documentos/Cursos%20e%20Treinamentos/ADA%20Tech/L%C3%B3gica%20de%20Programa%C3%A7%C3%A3o%20II/Projeto_Mod02_Ada_VemSerTech/Projeto_grupoB.ipynb#W6sZmlsZQ%3D%3D?line=3'>4</a>\u001b[0m \u001b[39mif\u001b[39;00m tipo \u001b[39m==\u001b[39m \u001b[39m'\u001b[39m\u001b[39mMaior que\u001b[39m\u001b[39m'\u001b[39m:\n\u001b[1;32m----> <a href='vscode-notebook-cell:/d%3A/Documentos/Cursos%20e%20Treinamentos/ADA%20Tech/L%C3%B3gica%20de%20Programa%C3%A7%C3%A3o%20II/Projeto_Mod02_Ada_VemSerTech/Projeto_grupoB.ipynb#W6sZmlsZQ%3D%3D?line=4'>5</a>\u001b[0m     filtro \u001b[39m=\u001b[39m [ i \u001b[39mfor\u001b[39;49;00m i \u001b[39min\u001b[39;49;00m lista \u001b[39mif\u001b[39;49;00m i[categoria] \u001b[39m>\u001b[39;49m valor_comparacao]\n\u001b[0;32m      <a href='vscode-notebook-cell:/d%3A/Documentos/Cursos%20e%20Treinamentos/ADA%20Tech/L%C3%B3gica%20de%20Programa%C3%A7%C3%A3o%20II/Projeto_Mod02_Ada_VemSerTech/Projeto_grupoB.ipynb#W6sZmlsZQ%3D%3D?line=5'>6</a>\u001b[0m \u001b[39mif\u001b[39;00m tipo \u001b[39m==\u001b[39m \u001b[39m'\u001b[39m\u001b[39mMaior e iqual a\u001b[39m\u001b[39m'\u001b[39m:\n\u001b[0;32m      <a href='vscode-notebook-cell:/d%3A/Documentos/Cursos%20e%20Treinamentos/ADA%20Tech/L%C3%B3gica%20de%20Programa%C3%A7%C3%A3o%20II/Projeto_Mod02_Ada_VemSerTech/Projeto_grupoB.ipynb#W6sZmlsZQ%3D%3D?line=6'>7</a>\u001b[0m     filtro \u001b[39m=\u001b[39m [ i \u001b[39mfor\u001b[39;00m i \u001b[39min\u001b[39;00m lista \u001b[39mif\u001b[39;00m i[categoria] \u001b[39m>\u001b[39m\u001b[39m=\u001b[39m valor_comparacao]\n",
      "\u001b[1;32md:\\Documentos\\Cursos e Treinamentos\\ADA Tech\\Lógica de Programação II\\Projeto_Mod02_Ada_VemSerTech\\Projeto_grupoB.ipynb Cell 19\u001b[0m line \u001b[0;36m5\n\u001b[0;32m      <a href='vscode-notebook-cell:/d%3A/Documentos/Cursos%20e%20Treinamentos/ADA%20Tech/L%C3%B3gica%20de%20Programa%C3%A7%C3%A3o%20II/Projeto_Mod02_Ada_VemSerTech/Projeto_grupoB.ipynb#W6sZmlsZQ%3D%3D?line=2'>3</a>\u001b[0m     filtro \u001b[39m=\u001b[39m [ i \u001b[39mfor\u001b[39;00m i \u001b[39min\u001b[39;00m lista \u001b[39mif\u001b[39;00m i[categoria] \u001b[39m==\u001b[39m valor_categoria]\n\u001b[0;32m      <a href='vscode-notebook-cell:/d%3A/Documentos/Cursos%20e%20Treinamentos/ADA%20Tech/L%C3%B3gica%20de%20Programa%C3%A7%C3%A3o%20II/Projeto_Mod02_Ada_VemSerTech/Projeto_grupoB.ipynb#W6sZmlsZQ%3D%3D?line=3'>4</a>\u001b[0m \u001b[39mif\u001b[39;00m tipo \u001b[39m==\u001b[39m \u001b[39m'\u001b[39m\u001b[39mMaior que\u001b[39m\u001b[39m'\u001b[39m:\n\u001b[1;32m----> <a href='vscode-notebook-cell:/d%3A/Documentos/Cursos%20e%20Treinamentos/ADA%20Tech/L%C3%B3gica%20de%20Programa%C3%A7%C3%A3o%20II/Projeto_Mod02_Ada_VemSerTech/Projeto_grupoB.ipynb#W6sZmlsZQ%3D%3D?line=4'>5</a>\u001b[0m     filtro \u001b[39m=\u001b[39m [ i \u001b[39mfor\u001b[39;00m i \u001b[39min\u001b[39;00m lista \u001b[39mif\u001b[39;00m i[categoria] \u001b[39m>\u001b[39;49m valor_comparacao]\n\u001b[0;32m      <a href='vscode-notebook-cell:/d%3A/Documentos/Cursos%20e%20Treinamentos/ADA%20Tech/L%C3%B3gica%20de%20Programa%C3%A7%C3%A3o%20II/Projeto_Mod02_Ada_VemSerTech/Projeto_grupoB.ipynb#W6sZmlsZQ%3D%3D?line=5'>6</a>\u001b[0m \u001b[39mif\u001b[39;00m tipo \u001b[39m==\u001b[39m \u001b[39m'\u001b[39m\u001b[39mMaior e iqual a\u001b[39m\u001b[39m'\u001b[39m:\n\u001b[0;32m      <a href='vscode-notebook-cell:/d%3A/Documentos/Cursos%20e%20Treinamentos/ADA%20Tech/L%C3%B3gica%20de%20Programa%C3%A7%C3%A3o%20II/Projeto_Mod02_Ada_VemSerTech/Projeto_grupoB.ipynb#W6sZmlsZQ%3D%3D?line=6'>7</a>\u001b[0m     filtro \u001b[39m=\u001b[39m [ i \u001b[39mfor\u001b[39;00m i \u001b[39min\u001b[39;00m lista \u001b[39mif\u001b[39;00m i[categoria] \u001b[39m>\u001b[39m\u001b[39m=\u001b[39m valor_comparacao]\n",
      "\u001b[1;31mTypeError\u001b[0m: '>' not supported between instances of 'str' and 'int'"
     ]
    }
   ],
   "source": [
    "def filtro(lista: list, categoria:str, valor_categoria, tipo, valor_comparacao = None):\n",
    "    if tipo == 'Categórico':\n",
    "        filtro = [ i for i in lista if i[categoria] == valor_categoria]\n",
    "    if tipo == 'Maior que':\n",
    "        filtro = [ i for i in lista if i[categoria] > valor_comparacao]\n",
    "    if tipo == 'Maior e iqual a':\n",
    "        filtro = [ i for i in lista if i[categoria] >= valor_comparacao]\n",
    "    if tipo == 'Menor que':\n",
    "        filtro = [ i for i in lista if i[categoria] < valor_comparacao]\n",
    "    if tipo == 'Menor e iqual a':\n",
    "        filtro = [ i for i in lista if i[categoria] <= valor_comparacao]\n",
    "    if tipo == 'Igual a':\n",
    "        filtro = [ i for i in lista if i[categoria] == valor_comparacao]\n",
    "    return filtro\n",
    "    \n",
    "    \n",
    "filtro(lista_vendas_trad, 'Genero','Preco','Maior que', valor_comparacao = 30)"
   ]
  },
  {
   "cell_type": "code",
   "execution_count": 24,
   "metadata": {},
   "outputs": [
    {
     "name": "stdout",
     "output_type": "stream",
     "text": [
      "32.0% das compras foram realizadas por mulheres e 68.0% da compras realizadas por homens.\n"
     ]
    }
   ],
   "source": [
    "# algum tipo de estatística\n",
    "\n",
    "soma_Male   = sum([ 1 for i in lista_vendas if i['Genero'] == 'Male'  ])\n",
    "soma_Female = sum([ 1 for i in lista_vendas if i['Genero'] == 'Female'])\n",
    "total = len(lista_vendas)\n",
    "porcentagem_F = soma_Female/total*100\n",
    "porcentagem_M = soma_Male  /total*100\n",
    "print(f'{porcentagem_F}% das compras foram realizadas por mulheres e {porcentagem_M}% da compras realizadas por homens.')"
   ]
  },
  {
   "cell_type": "code",
   "execution_count": 28,
   "metadata": {},
   "outputs": [],
   "source": [
    "# algum tipo de regra de negócio\n",
    "# ticket médio\n"
   ]
  },
  {
   "cell_type": "markdown",
   "metadata": {},
   "source": [
    "## Função para validação de respostas do usuário"
   ]
  },
  {
   "cell_type": "code",
   "execution_count": 30,
   "metadata": {},
   "outputs": [],
   "source": [
    "def validacao_respostas(pergunta, respostas_validas):\n",
    "  \"\"\"\n",
    "  Validação de respostas. A função valida respostas de um caracter\n",
    "  É passado como parâmetro:\n",
    "    - A pergunta que se quer fazer (str)\n",
    "    - Uma lista com as respostas válidas\n",
    "\n",
    "  Caso o usuário digite algo diferente das respostas válidas,\n",
    "  a função repetirá a pergunta até que o usuário responda um valor válido.\n",
    "  E só retornará opções válidas de valores\n",
    "  \"\"\"\n",
    "  resp = input(pergunta).upper()[0]# apenas 1ªletra\n",
    "  pergunta = 'Resposta inválida! ' + pergunta\n",
    "  while not resp in respostas_validas:\n",
    "    \n",
    "    resp = input(pergunta).upper()[0]# apenas 1ªletra\n",
    "    #resp = input(pergunta).upper()[0]# apenas 1ªletra\n",
    "  return resp"
   ]
  },
  {
   "cell_type": "markdown",
   "metadata": {},
   "source": [
    "## Função para exportar uma lista de dicionários para um arquivo .json"
   ]
  },
  {
   "cell_type": "code",
   "execution_count": 138,
   "metadata": {},
   "outputs": [],
   "source": [
    "import json\n",
    "import os.path\n",
    "def exportar_json(lista_vendas: list):\n",
    "    \"\"\"\n",
    "    A função exporta a lista_vendas para um arquivo.\n",
    "    O arquivo será nomeado pelo usuário\n",
    "        Caso o arquivo já exista na pasta, o usuário será questionado se quer sobrescrever.\n",
    "    O arquivo será no formato .json\n",
    "    Será importado na mesma pasta que se encontra o script\n",
    "    Args:\n",
    "        lista_vendas (list): lista de dicionários com as informações de venda\n",
    "    \"\"\"\n",
    "    nome_arquivo = input(\"Informe o nome do arquivo a ser criado:\\t\").lower()\n",
    "    \n",
    "\n",
    "    # retirando os possíveis espaços do nome\n",
    "    qtd_espaco = nome_arquivo.count(' ')\n",
    "    if qtd_espaco > 0:\n",
    "        nome_arquivo =  nome_arquivo.replace(\" \", \"_\", qtd_espaco)\n",
    "    nome_arquivo += '.json'\n",
    "    \n",
    "    if os.path.exists(nome_arquivo) == True:\n",
    "        pergunta = 'Já existe um arquivo com esse nome.\\nDeseja sobrescrever?[S]  Sim\\t [N] Não\\t'\n",
    "        resp_sobrescrever = validacao_respostas(pergunta, ['S','N'])\n",
    "        if resp_sobrescrever == 'N':\n",
    "            print('O arquivo não foi modificado.')\n",
    "            return\n",
    "    try:\n",
    "        json_vendas = json.dumps(lista_vendas, indent=2,ensure_ascii=False)\n",
    "        arquivo = open(nome_arquivo, 'w', encoding = \"utf-8\") \n",
    "        arquivo.write(json_vendas) \n",
    "        arquivo.close()\n",
    "        print(\"Arquivo exportado com sucesso!\")\n",
    "    except:\n",
    "        print(\"Erro ao exportar arquivo\")\n",
    "    return"
   ]
  },
  {
   "cell_type": "code",
   "execution_count": null,
   "metadata": {},
   "outputs": [],
   "source": []
  }
 ],
 "metadata": {
  "kernelspec": {
   "display_name": "Python 3",
   "language": "python",
   "name": "python3"
  },
  "language_info": {
   "codemirror_mode": {
    "name": "ipython",
    "version": 3
   },
   "file_extension": ".py",
   "mimetype": "text/x-python",
   "name": "python",
   "nbconvert_exporter": "python",
   "pygments_lexer": "ipython3",
   "version": "3.11.6"
  }
 },
 "nbformat": 4,
 "nbformat_minor": 2
}
