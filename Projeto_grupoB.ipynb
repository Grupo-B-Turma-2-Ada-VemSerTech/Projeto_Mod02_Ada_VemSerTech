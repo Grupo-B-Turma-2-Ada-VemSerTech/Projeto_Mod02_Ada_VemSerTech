{
 "cells": [
  {
   "cell_type": "markdown",
   "metadata": {},
   "source": [
    "# Projeto\n",
    "\n",
    "**Objetivo**: Desenvolver um CRUD utilizando um arquivo JSON para \"persistir\" os dados e aplicar algumas outras funcionalidades que seriam interessantes no sistema.\n",
    "\n",
    "**Requisitos**: O projeto deve conter as seguintes funcionalidades/ características:\n",
    "\n",
    "- Utilizar JSON para persistir os dados\n",
    "- Função de criar o arquivo JSON (amanda) OK\n",
    "- Função para adicionar registros (através do *input*, ou de um conjunto de dados históricos, por exemplo) (ricardo)\n",
    "    - Não deixar para o usuário decidir o id, apenas coloque o proximo valor disponível\n",
    "- Função para realizar o *udpate* (atualização) das informações (leticia)\n",
    "    - Selecionar pelo ID\n",
    "- Função para excluir registros (adriely)\n",
    "    - Selecionar pelo ID\n",
    "- Função para realizar a leitura de registros (printar os dados na tela do consumidor x, lista) (leticia)\n",
    "- Função para filtrar informações dos dados (Amanda) +/- OK\n",
    "- Função para aplicar alguma regra de negócio (varia de acordo com o sistema, exemplo, grupo criou um sistema de consulta de colaboradores, logo deseja-se ter uma função que calcula o faturamento de todos os funcionários que são vendedores) (lorrany)\n",
    "    - Utilizar as funções de filtro e de estatística\n",
    "- Função que retorne alguma estatística dos dados (lorrany)\n",
    "- menu (daniel)\n",
    "- Exemplos de funcionamento de cada uma das funções acima\n",
    "\n",
    "**Pontos importantes**:\n",
    "\n",
    "- Organização de código no ``jupyter notebook`` (não precisa de ppt, no dia apenas o notebook será necessário)\n",
    "- Definição sobre o que será o sistema (livre e definido pelo grupo)\n",
    "- Apresentação do sistema e funcionalidades (assim como os exemplos). Não precisa ser o grupo todo apresentando\n",
    "- Gerenciamento de erros, como no caso de num input o usuário colocar 'abc' num campo de valor inteiro\n",
    "- A nota do grupo será a nota de cada integrante\n",
    "- Tempo de apresentação: de 15 a 20 minutos\n",
    "- A princípio todos integrantes devem entregar o mesmo notebook no sistema do LMS, para fins de retorno de nota\n",
    "- Não precisa se ater somente aos 10 requisitos acima, pode ir além :)"
   ]
  },
  {
   "cell_type": "markdown",
   "metadata": {},
   "source": [
    "banco de dados\n",
    "https://www.kaggle.com/datasets/iamsouravbanerjee/customer-shopping-trends-dataset"
   ]
  },
  {
   "cell_type": "markdown",
   "metadata": {},
   "source": [
    "## Função para a leitura de dados de um csv ou json e transformação em uma lista de dicionários"
   ]
  },
  {
   "cell_type": "code",
   "execution_count": 2,
   "metadata": {},
   "outputs": [],
   "source": [
    "import json\n",
    "import csv\n",
    "def importar_dados(extensao:str):\n",
    "    dados = list()\n",
    "    \n",
    "    opcoes = arquivos_disponiveis(extensao)\n",
    "    respostas_validas = list(opcoes.keys())\n",
    "    pergunta = 'Informe o numero do arquivo que deseja importar'\n",
    "    str_arquivo = opcoes[validacao_respostas(pergunta, respostas_validas)]\n",
    "    \n",
    "    if extensao == '.json':\n",
    "        with open(str_arquivo, \"r\", encoding = \"utf-8\") as f:\n",
    "            dados = json.load(f)\n",
    "\n",
    "    else:\n",
    "        with open(str_arquivo, \"r\") as arquivo:\n",
    "            arquivo_csv = csv.reader(arquivo, delimiter=\",\")\n",
    "            next(arquivo_csv)  # pula a primeira linha (cabeçalho)\n",
    "            for linha in enumerate(arquivo_csv):\n",
    "                #print(linha)\n",
    "                Customer_ID, Age, Gender, Item_Purchased,Category, Purchase_Amount, Location, Size, Color, Season, Review_Rating, Subscription_Status, Payment_Method, Shipping_Type, Discount_Applied, Promo_Code_Used, Previous_Purchases, Preferred_Payment_Method, Frequency_of_Purchases = linha[1]\n",
    "                #print('ID', Customer_ID,'Idade', Age,'Genero', Gender,'Item_Comprado',Item_Purchased,\n",
    "                #                          'Categoria', Category,'Metodo_Pagamento', Payment_Method)\n",
    "                # \n",
    "                dados.append({'ID': int(Customer_ID), #numérica\n",
    "                                    'Idade': int(Age), #numérica\n",
    "                                    'Genero': Gender, #categórica\n",
    "                                    'Item_Comprado':Item_Purchased, #categórica\n",
    "                                    'Categoria': Category, #categórica\n",
    "                                    'Preco': float(Purchase_Amount), #numérica\n",
    "                                    'Metodo_Pagamento': Payment_Method, #categórica\n",
    "                                    'Quantidade_Compras_Anteriores': int(Previous_Purchases), #numérica\n",
    "                                    'Frequencia_Compra': Frequency_of_Purchases #categórica\n",
    "                                    })\n",
    "    return dados\n",
    "    "
   ]
  },
  {
   "cell_type": "markdown",
   "metadata": {},
   "source": [
    "# Traduzindo os valores retirados do CSV"
   ]
  },
  {
   "cell_type": "code",
   "execution_count": 3,
   "metadata": {},
   "outputs": [],
   "source": [
    "def traduzindo_lista_dict(lista: list):\n",
    "    for chave in list(lista[0].keys()):\n",
    "        if type(lista_vendas[0][chave]) == str:\n",
    "            categorias = lista_de_valores_sem_repeticoes(lista, chave)\n",
    "            dict_traducao = traduz_palavras(categorias)\n",
    "            for i in range(len(lista)):\n",
    "                lista[i][chave] = dict_traducao[lista[i][chave]]\n",
    "    return lista"
   ]
  },
  {
   "cell_type": "markdown",
   "metadata": {},
   "source": [
    "## Função para traduzir palavras"
   ]
  },
  {
   "cell_type": "code",
   "execution_count": 4,
   "metadata": {},
   "outputs": [],
   "source": [
    "\n",
    "from translate import Translator\n",
    "def traduz_palavras(lista_de_palavras):\n",
    "  \"\"\"\n",
    "  Recebe uma lista de palavras em inglês e retorna um dicionário onde \n",
    "  a chave é a palavra da lista e o valor é a tradução em português.\n",
    "\n",
    "  Args:\n",
    "    lista_de_palavras: Uma lista de palavras em inglês.\n",
    "\n",
    "  Returns:\n",
    "    Um dicionário.\n",
    "  \"\"\"\n",
    "  dicionario_de_traducao = {}\n",
    "  for palavra in lista_de_palavras:\n",
    "    traducao = Translator(to_lang='pt-br', from_lang='english')\n",
    "    dicionario_de_traducao[palavra] = traducao.translate(palavra)\n",
    "  return dicionario_de_traducao\n"
   ]
  },
  {
   "cell_type": "markdown",
   "metadata": {},
   "source": [
    "# Função que retorna uma lista de valores sem repetição"
   ]
  },
  {
   "cell_type": "code",
   "execution_count": 5,
   "metadata": {},
   "outputs": [],
   "source": [
    "def lista_de_valores_sem_repeticoes(lista_de_dicionarios, chave):\n",
    "  \"\"\"\n",
    "  Recebe uma lista de dicionários.\n",
    "  A função retorna lista dos valores encontrados para a chave, sem repetições de valores.\n",
    "\n",
    "  Args:\n",
    "    lista_de_dicionarios: Uma lista de dicionários.\n",
    "    chave: A chave a ser pesquisada.\n",
    "\n",
    "  Returns:\n",
    "    Uma lista.\n",
    "  \"\"\"\n",
    "  lista_de_valores = set()\n",
    "  for dicionario in lista_de_dicionarios:\n",
    "    if chave in dicionario:\n",
    "      lista_de_valores.add(dicionario[chave])\n",
    "  return list(lista_de_valores)"
   ]
  },
  {
   "cell_type": "markdown",
   "metadata": {},
   "source": [
    "# Função que lista os arquivos disponíveis"
   ]
  },
  {
   "cell_type": "code",
   "execution_count": 6,
   "metadata": {},
   "outputs": [],
   "source": [
    "import os\n",
    "def arquivos_disponiveis(extensao: str):\n",
    "    pergunta = 'Informe o numero do arquivo que deseja importar'\n",
    "    opcoes = dict()\n",
    "    arquivos = os.listdir() # lista todos os arquivos presentes na pasta\n",
    "    arquivos_extensao = [arquivo for arquivo in arquivos if arquivo.endswith(extensao)] # filtra pela extensao\n",
    "    print(f'Lista de arquivos {extensao.upper()} disponíveis')\n",
    "    for i in range(len(arquivos_extensao)):\n",
    "        print(f'\\t{i+1}\\t{arquivos_extensao[i]}')\n",
    "        opcoes.update({str(i+1):arquivos_extensao[i]})\n",
    "    return opcoes\n",
    "        "
   ]
  },
  {
   "cell_type": "markdown",
   "metadata": {},
   "source": [
    "## Função de filtro"
   ]
  },
  {
   "cell_type": "code",
   "execution_count": 7,
   "metadata": {},
   "outputs": [],
   "source": [
    "def filtro(lista: list, categoria:str, valor_categoria, tipo:str):\n",
    "    if   tipo == 'Categorico':\n",
    "        filtro = [ i for i in lista if i[categoria] == valor_categoria]\n",
    "    elif tipo == 'Maior que':\n",
    "        filtro = [ i for i in lista if i[categoria] > valor_categoria]\n",
    "    elif tipo == 'Maior ou igual a':\n",
    "        filtro = [ i for i in lista if i[categoria] >= valor_categoria]\n",
    "    elif tipo == 'Menor que':\n",
    "        filtro = [ i for i in lista if i[categoria] < valor_categoria]\n",
    "    elif tipo == 'Menor ou igual a':\n",
    "        filtro = [ i for i in lista if i[categoria] <= valor_categoria]\n",
    "    elif tipo == 'Igual a':\n",
    "        filtro = [ i for i in lista if i[categoria] == valor_categoria]\n",
    "    else: # diferente de\n",
    "        filtro = [ i for i in lista if i[categoria] != valor_categoria]\n",
    "    return filtro"
   ]
  },
  {
   "cell_type": "markdown",
   "metadata": {},
   "source": [
    "## Função para validação de respostas do usuário"
   ]
  },
  {
   "cell_type": "code",
   "execution_count": 8,
   "metadata": {},
   "outputs": [],
   "source": [
    "def validacao_respostas(pergunta, respostas_validas):\n",
    "  \"\"\"\n",
    "  Validação de respostas. A função valida respostas de um caracter\n",
    "  É passado como parâmetro:\n",
    "    - A pergunta que se quer fazer (str)\n",
    "    - Uma lista com as respostas válidas\n",
    "\n",
    "  Caso o usuário digite algo diferente das respostas válidas,\n",
    "  a função repetirá a pergunta até que o usuário responda um valor válido.\n",
    "  E só retornará opções válidas de valores\n",
    "  \"\"\"\n",
    "  print(pergunta)\n",
    "  resp = input().upper()[0]# apenas 1ªletra\n",
    "  pergunta = 'Resposta inválida! ' + pergunta\n",
    "  while not resp in respostas_validas:\n",
    "    print(pergunta)\n",
    "    resp = input().upper()[0]# apenas 1ªletra\n",
    "    #resp = input(pergunta).upper()[0]# apenas 1ªletra\n",
    "  return resp"
   ]
  },
  {
   "cell_type": "markdown",
   "metadata": {},
   "source": [
    "## Função para exportar uma lista de dicionários para um arquivo .json"
   ]
  },
  {
   "cell_type": "code",
   "execution_count": 9,
   "metadata": {},
   "outputs": [],
   "source": [
    "import json\n",
    "import os.path\n",
    "def exportar_json(lista_vendas: list):\n",
    "    \"\"\"\n",
    "    A função exporta a lista_vendas para um arquivo.\n",
    "    O arquivo será nomeado pelo usuário\n",
    "        Caso o arquivo já exista na pasta, o usuário será questionado se quer sobrescrever.\n",
    "    O arquivo será no formato .json\n",
    "    Será importado na mesma pasta que se encontra o script\n",
    "    Args:\n",
    "        lista_vendas (list): lista de dicionários com as informações de venda\n",
    "    \"\"\"\n",
    "    nome_arquivo = input(\"Informe o nome do arquivo a ser criado:\\t\").lower()\n",
    "    \n",
    "\n",
    "    # retirando os possíveis espaços do nome\n",
    "    qtd_espaco = nome_arquivo.count(' ')\n",
    "    if qtd_espaco > 0:\n",
    "        nome_arquivo =  nome_arquivo.replace(\" \", \"_\", qtd_espaco)\n",
    "    nome_arquivo += '.json'\n",
    "    \n",
    "    if os.path.exists(nome_arquivo) == True:\n",
    "        pergunta = 'Já existe um arquivo com esse nome.\\nDeseja sobrescrever?[S]  Sim\\t [N] Não\\t'\n",
    "        resp_sobrescrever = validacao_respostas(pergunta, ['S','N'])\n",
    "        if resp_sobrescrever == 'N':\n",
    "            print('O arquivo não foi modificado.')\n",
    "            return\n",
    "    try:\n",
    "        json_vendas = json.dumps(lista_vendas, indent=2,ensure_ascii=False)\n",
    "        arquivo = open(nome_arquivo, 'w', encoding = \"utf-8\") \n",
    "        arquivo.write(json_vendas) \n",
    "        arquivo.close()\n",
    "        print(\"Arquivo exportado com sucesso!\")\n",
    "    except:\n",
    "        print(\"Erro ao exportar arquivo\")\n",
    "    return"
   ]
  },
  {
   "cell_type": "markdown",
   "metadata": {},
   "source": [
    "# Menu filtros"
   ]
  },
  {
   "cell_type": "code",
   "execution_count": 43,
   "metadata": {},
   "outputs": [],
   "source": [
    "def opcoes_filtros(dados:list):\n",
    "    #problemas:\n",
    "    # Não aparece todas as opções quando a lista é grande\n",
    "    # Como mostrar o resultado\n",
    "    tamanho = len(list(dados[0].keys())[1:])\n",
    "    lista_categorias = list(dados[0].keys())[1:]\n",
    "    respostas_validas = list(range(1,tamanho+1))\n",
    "    respostas_validas = list(map(str, respostas_validas))\n",
    "\n",
    "    print('\\nCategorias Disponíveis para consulta:')\n",
    "    for i in range(tamanho):\n",
    "        print(1+i,'\\t',lista_categorias[i])\n",
    "    pergunta = 'Informe o número da categoria que deseja filtrar:'\n",
    "    resp = validacao_respostas(pergunta, respostas_validas)\n",
    "    chave = str(lista_categorias[int(resp)-1])\n",
    "\n",
    "    if type(dados[0][chave]) == str:\n",
    "        pergunta = f'Informe o número da opção voce quer filtrar dentro de {chave}: '\n",
    "        opcoes = lista_de_valores_sem_repeticoes(dados, chave)\n",
    "        respostas_validas = list(range(1,len(opcoes)))\n",
    "        respostas_validas = list(map(str, respostas_validas))\n",
    "        print(f'\\nLista de opções dentro da categoria {chave}')\n",
    "        for i in range(len(opcoes)):\n",
    "            print(1+i,'\\t',opcoes[i])\n",
    "        resp = validacao_respostas(pergunta, respostas_validas)\n",
    "        opcao = opcoes[int(resp)-1]\n",
    "        return filtro(dados, chave, opcao, 'Categorico')\n",
    "    else: # numeros reais ou inteiros\n",
    "        pass\n",
    "        operadores_comparacao = ['Maior que','Maior ou igual a',\n",
    "                                 'Menor que','Menor ou igual a',\n",
    "                                 'Igual a','Diferente de']\n",
    "        respostas_validas = list(range(1,len(operadores_comparacao)))\n",
    "        respostas_validas = list(map(str, respostas_validas))\n",
    "        for i in range(len(respostas_validas)):\n",
    "            print(1+i,'\\t',operadores_comparacao[i])\n",
    "        pergunta = f'Informe o número da opção do operador para usar na categoria {chave}: '\n",
    "        resp = validacao_respostas(pergunta, respostas_validas)\n",
    "        opcao = operadores_comparacao[int(resp)-1]\n",
    "        \n",
    "        pergunta = 'Informe um valor para realizar a comparação: '\n",
    "        valor = validacao_numero(pergunta)\n",
    "        return filtro(dados, chave, valor, opcao)"
   ]
  },
  {
   "cell_type": "markdown",
   "metadata": {},
   "source": [
    "# Verifica se é número"
   ]
  },
  {
   "cell_type": "code",
   "execution_count": 10,
   "metadata": {},
   "outputs": [],
   "source": [
    "def validacao_numero(pergunta:str):\n",
    "    valido = False\n",
    "    print(pergunta)\n",
    "    while valido != True:\n",
    "        numero = input(pergunta)\n",
    "        try:\n",
    "            float(numero)\n",
    "            valido = True\n",
    "        except ValueError:\n",
    "            print(\"Informe um valor válido!\")\n",
    "            numero = input(pergunta)\n",
    "            valido = False\n",
    "        else:\n",
    "            return float(numero)"
   ]
  },
  {
   "cell_type": "markdown",
   "metadata": {},
   "source": [
    "## Detectar idioma"
   ]
  },
  {
   "cell_type": "code",
   "execution_count": 11,
   "metadata": {},
   "outputs": [],
   "source": [
    "from langdetect import detect \n",
    "def detectar_idioma(dados:list):\n",
    "    if detect(dados[0]['Metodo_Pagamento']) == 'en':\n",
    "        pergunta = 'Os dados estão em inglês, deseja traduzir?[S] Sim  [N] Não\\t'\n",
    "        resp = validacao_respostas(pergunta, ['S','N'])\n",
    "        if resp == 'S':\n",
    "            print(\"Essa operação pode demorar, aguarde.\")\n",
    "            dados = traduzindo_lista_dict(dados)\n",
    "    return dados\n"
   ]
  },
  {
   "cell_type": "markdown",
   "metadata": {},
   "source": [
    "# Função Principal"
   ]
  },
  {
   "cell_type": "code",
   "execution_count": 13,
   "metadata": {},
   "outputs": [
    {
     "name": "stdout",
     "output_type": "stream",
     "text": [
      "Que tipo de arquivo deseja importar:\n",
      "      1 \t CSV\n",
      "      2 \t JSON\n",
      "      3 \t Não importar nada   \n",
      "oi\n",
      "Lista de arquivos .JSON disponíveis\n",
      "\t1\tdados_vendas.json\n",
      "\t2\tdados_vendas_traduzidos.json\n",
      "Informe o numero do arquivo que deseja importar\n",
      "Qual ação deseja realizar?\n",
      "        Para adicionar um registro             --- A\n",
      "        Para remover um registro               --- R\n",
      "        Para editar informações                --- E\n",
      "        Para leitura de registro               --- L\n",
      "        Para mostrar a regra de negócio        --- N\n",
      "        Para realizar estatística              --- S\n",
      "        Para realizar filtro                   --- F\n",
      "        \n",
      "Deseja continuar no menu? [S]/[N]\t\n"
     ]
    }
   ],
   "source": [
    "def main():\n",
    "    \n",
    "    pergunta = \"\"\"Que tipo de arquivo deseja importar:\n",
    "      1 \\t CSV\n",
    "      2 \\t JSON\n",
    "      3 \\t Não importar nada   \"\"\"\n",
    "    resp =  validacao_respostas(pergunta, ['1','2','3'])\n",
    "    if   resp == '1':\n",
    "        dados = importar_dados('.csv')\n",
    "        detectar_idioma(dados)\n",
    "    elif resp == '2':\n",
    "        dados = importar_dados('.json')\n",
    "        detectar_idioma(dados)\n",
    "    else:\n",
    "        dados = list()\n",
    "        \n",
    "    continua = 'S'\n",
    "    while continua =='S':\n",
    "        pergunta = \"\"\"Qual ação deseja realizar?\n",
    "        Para adicionar um registro             --- A\n",
    "        Para remover um registro               --- R\n",
    "        Para editar informações                --- E\n",
    "        Para leitura de registro               --- L\n",
    "        Para mostrar a regra de negócio        --- N\n",
    "        Para realizar estatística              --- S\n",
    "        Para realizar filtro                   --- F\n",
    "        \"\"\"\n",
    "        opcao = validacao_respostas(pergunta, ['A','R','E','L','N','S','F'])\n",
    "        if   opcao == 'A': #ricardo\n",
    "            pass\n",
    "        elif opcao == 'R': #leticia\n",
    "            pass\n",
    "        elif opcao == 'E': #adriely\n",
    "            pass\n",
    "        elif opcao == 'L': #leticia\n",
    "            pass\n",
    "        elif opcao == 'N': #lorrany\n",
    "            pass\n",
    "        elif opcao == 'S': #lorrany\n",
    "            pass\n",
    "        else: #filtro #amanda\n",
    "            pass\n",
    "        \n",
    "        pergunta = 'Deseja continuar no menu? [S]/[N]\\t'\n",
    "        continua = validacao_respostas(pergunta, ['S', 'N'])\n",
    "        \n",
    "main()\n",
    "    "
   ]
  },
  {
   "cell_type": "code",
   "execution_count": null,
   "metadata": {},
   "outputs": [],
   "source": []
  }
 ],
 "metadata": {
  "kernelspec": {
   "display_name": "Python 3",
   "language": "python",
   "name": "python3"
  },
  "language_info": {
   "codemirror_mode": {
    "name": "ipython",
    "version": 3
   },
   "file_extension": ".py",
   "mimetype": "text/x-python",
   "name": "python",
   "nbconvert_exporter": "python",
   "pygments_lexer": "ipython3",
   "version": "3.11.6"
  }
 },
 "nbformat": 4,
 "nbformat_minor": 2
}
