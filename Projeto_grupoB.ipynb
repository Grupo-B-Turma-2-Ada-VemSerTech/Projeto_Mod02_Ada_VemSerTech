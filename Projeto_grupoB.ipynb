{
 "cells": [
  {
   "cell_type": "markdown",
   "metadata": {},
   "source": [
    "# Projeto\n",
    "\n",
    "**Objetivo**: Desenvolver um CRUD utilizando um arquivo JSON para \"persistir\" os dados e aplicar algumas outras funcionalidades que seriam interessantes no sistema.\n",
    "\n",
    "**Requisitos**: O projeto deve conter as seguintes funcionalidades/ características:\n",
    "\n",
    "- Utilizar JSON para persistir os dados\n",
    "- Função de criar o arquivo JSON (amanda) OK\n",
    "- Função para adicionar registros (através do *input*, ou de um conjunto de dados históricos, por exemplo) (ricardo)\n",
    "- Função para realizar o *udpate* (atualização) das informações (leticia)\n",
    "- Função para excluir registros (adriely)\n",
    "- Função para realizar a leitura de registros (printar os dados na tela do consumidor x, lista) (leticia)\n",
    "- Função para filtrar informações dos dados (Amanda) +/- OK\n",
    "- Função para aplicar alguma regra de negócio (varia de acordo com o sistema, exemplo, grupo criou um sistema de consulta de colaboradores, logo deseja-se ter uma função que calcula o faturamento de todos os funcionários que são vendedores) (lorrany)\n",
    "- Função que retorne alguma estatística dos dados (lorrany)\n",
    "- menu (daniel)\n",
    "- Exemplos de funcionamento de cada uma das funções acima\n",
    "\n",
    "**Pontos importantes**:\n",
    "\n",
    "- Organização de código no ``jupyter notebook`` (não precisa de ppt, no dia apenas o notebook será necessário)\n",
    "- Definição sobre o que será o sistema (livre e definido pelo grupo)\n",
    "- Apresentação do sistema e funcionalidades (assim como os exemplos). Não precisa ser o grupo todo apresentando\n",
    "- Gerenciamento de erros, como no caso de num input o usuário colocar 'abc' num campo de valor inteiro\n",
    "- A nota do grupo será a nota de cada integrante\n",
    "- Tempo de apresentação: de 15 a 20 minutos\n",
    "- A princípio todos integrantes devem entregar o mesmo notebook no sistema do LMS, para fins de retorno de nota\n",
    "- Não precisa se ater somente aos 10 requisitos acima, pode ir além :)"
   ]
  },
  {
   "cell_type": "markdown",
   "metadata": {},
   "source": [
    "banco de dados\n",
    "https://www.kaggle.com/datasets/iamsouravbanerjee/customer-shopping-trends-dataset"
   ]
  },
  {
   "cell_type": "markdown",
   "metadata": {},
   "source": [
    "## Função para a leitura de dados de um csv ou json e transformação em uma lista de dicionários"
   ]
  },
  {
   "cell_type": "code",
   "execution_count": 191,
   "metadata": {},
   "outputs": [],
   "source": [
    "import json\n",
    "import csv\n",
    "def importar_dados(extensao:str):\n",
    "    dados = list()\n",
    "    \n",
    "    opcoes = arquivos_disponiveis(extensao)\n",
    "    respostas_validas = list(opcoes.keys())\n",
    "    pergunta = 'Informe o numero do arquivo que deseja importar'\n",
    "    str_arquivo = opcoes[validacao_respostas(pergunta, respostas_validas)]\n",
    "    \n",
    "    if extensao == '.json':\n",
    "        with open(str_arquivo, \"r\", encoding = \"utf-8\") as f:\n",
    "            dados = json.load(f)\n",
    "\n",
    "    else:\n",
    "        with open(str_arquivo, \"r\") as arquivo:\n",
    "            arquivo_csv = csv.reader(arquivo, delimiter=\",\")\n",
    "            next(arquivo_csv)  # pula a primeira linha (cabeçalho)\n",
    "            for linha in enumerate(arquivo_csv):\n",
    "                #print(linha)\n",
    "                Customer_ID, Age, Gender, Item_Purchased,Category, Purchase_Amount, Location, Size, Color, Season, Review_Rating, Subscription_Status, Payment_Method, Shipping_Type, Discount_Applied, Promo_Code_Used, Previous_Purchases, Preferred_Payment_Method, Frequency_of_Purchases = linha[1]\n",
    "                #print('ID', Customer_ID,'Idade', Age,'Genero', Gender,'Item_Comprado',Item_Purchased,\n",
    "                #                          'Categoria', Category,'Metodo_Pagamento', Payment_Method)\n",
    "                # \n",
    "                dados.append({'ID': int(Customer_ID), #numérica\n",
    "                                    'Idade': int(Age), #numérica\n",
    "                                    'Genero': Gender, #categórica\n",
    "                                    'Item_Comprado':Item_Purchased, #categórica\n",
    "                                    'Categoria': Category, #categórica\n",
    "                                    'Preco': float(Purchase_Amount), #numérica\n",
    "                                    'Metodo_Pagamento': Payment_Method, #categórica\n",
    "                                    'Quantidade_Compras_Anteriores': int(Previous_Purchases), #numérica\n",
    "                                    'Frequencia_Compra': Frequency_of_Purchases #categórica\n",
    "                                    })\n",
    "    return dados\n",
    "    "
   ]
  },
  {
   "cell_type": "code",
   "execution_count": 195,
   "metadata": {},
   "outputs": [
    {
     "name": "stdout",
     "output_type": "stream",
     "text": [
      "Lista de arquivos .CSV disponíveis\n",
      "1\tshopping_trends.csv\n"
     ]
    }
   ],
   "source": [
    "dados = importar_dados('.csv')\n",
    "dados_traduzidos = traduzindo_lista_dict(dados)"
   ]
  },
  {
   "cell_type": "markdown",
   "metadata": {},
   "source": [
    "# Traduzir os valores da variável ``lista_vendas()``"
   ]
  },
  {
   "cell_type": "code",
   "execution_count": 124,
   "metadata": {},
   "outputs": [],
   "source": [
    "def traduzindo_lista_dict(lista: list):\n",
    "    for chave in list(lista[0].keys()):\n",
    "        if type(lista_vendas[0][chave]) == str:\n",
    "            categorias = lista_de_valores_sem_repeticoes(lista, chave)\n",
    "            dict_traducao = traduz_palavras(categorias)\n",
    "            for i in range(len(lista)):\n",
    "                lista[i][chave] = dict_traducao[lista[i][chave]]\n",
    "    return lista"
   ]
  },
  {
   "cell_type": "markdown",
   "metadata": {},
   "source": [
    "## Função que retorna uma lista de valores sem repetição"
   ]
  },
  {
   "cell_type": "code",
   "execution_count": 67,
   "metadata": {},
   "outputs": [],
   "source": [
    "def lista_de_valores_sem_repeticoes(lista_de_dicionarios, chave):\n",
    "  \"\"\"\n",
    "  Recebe uma lista de dicionários.\n",
    "  A função retorna lista dos valores encontrados para a chave, sem repetições de valores.\n",
    "\n",
    "  Args:\n",
    "    lista_de_dicionarios: Uma lista de dicionários.\n",
    "    chave: A chave a ser pesquisada.\n",
    "\n",
    "  Returns:\n",
    "    Uma lista.\n",
    "  \"\"\"\n",
    "  lista_de_valores = set()\n",
    "  for dicionario in lista_de_dicionarios:\n",
    "    if chave in dicionario:\n",
    "      lista_de_valores.add(dicionario[chave])\n",
    "  return list(lista_de_valores)"
   ]
  },
  {
   "cell_type": "markdown",
   "metadata": {},
   "source": [
    "## Função para traduzir palavras"
   ]
  },
  {
   "cell_type": "code",
   "execution_count": 130,
   "metadata": {},
   "outputs": [],
   "source": [
    "\n",
    "from translate import Translator\n",
    "def traduz_palavras(lista_de_palavras):\n",
    "  \"\"\"\n",
    "  Recebe uma lista de palavras em inglês e retorna um dicionário onde \n",
    "  a chave é a palavra da lista e o valor é a tradução em português.\n",
    "\n",
    "  Args:\n",
    "    lista_de_palavras: Uma lista de palavras em inglês.\n",
    "\n",
    "  Returns:\n",
    "    Um dicionário.\n",
    "  \"\"\"\n",
    "  dicionario_de_traducao = {}\n",
    "  for palavra in lista_de_palavras:\n",
    "    traducao = Translator(to_lang='pt-br', from_lang='english')\n",
    "    dicionario_de_traducao[palavra] = traducao.translate(palavra)\n",
    "  return dicionario_de_traducao\n"
   ]
  },
  {
   "cell_type": "markdown",
   "metadata": {},
   "source": [
    "## Exportando os dados traduzidos"
   ]
  },
  {
   "cell_type": "code",
   "execution_count": 132,
   "metadata": {},
   "outputs": [],
   "source": [
    "lista_vendas = leitura_csv()\n",
    "lista_vendas_trad = traduzindo_lista_dict(lista_vendas)"
   ]
  },
  {
   "cell_type": "code",
   "execution_count": 139,
   "metadata": {},
   "outputs": [
    {
     "name": "stdout",
     "output_type": "stream",
     "text": [
      "Arquivo exportado com sucesso!\n"
     ]
    }
   ],
   "source": [
    "exportar_json(lista_vendas_trad)"
   ]
  },
  {
   "cell_type": "markdown",
   "metadata": {},
   "source": [
    "# Função que lista os arquivos disponíveis"
   ]
  },
  {
   "cell_type": "code",
   "execution_count": 172,
   "metadata": {},
   "outputs": [],
   "source": [
    "import os\n",
    "def arquivos_disponiveis(extensao: str):\n",
    "    pergunta = 'Informe o numero do arquivo que deseja importar'\n",
    "    opcoes = dict()\n",
    "    arquivos = os.listdir() # lista todos os arquivos presentes na pasta\n",
    "    arquivos_extensao = [arquivo for arquivo in arquivos if arquivo.endswith(extensao)] # filtra pela extensao\n",
    "    print(f'Lista de arquivos {extensao.upper()} disponíveis')\n",
    "    for i in range(len(arquivos_extensao)):\n",
    "        print(f'{i+1}\\t{arquivos_extensao[i]}')\n",
    "        opcoes.update({str(i+1):arquivos_extensao[i]})\n",
    "    return opcoes\n",
    "        "
   ]
  },
  {
   "cell_type": "markdown",
   "metadata": {},
   "source": [
    "## Função de filtro"
   ]
  },
  {
   "cell_type": "code",
   "execution_count": 209,
   "metadata": {},
   "outputs": [],
   "source": [
    "def filtro(lista: list, categoria:str, valor_categoria, tipo):\n",
    "    if tipo == 'Categorico':\n",
    "        filtro = [ i for i in lista if i[categoria] == valor_categoria]\n",
    "    if tipo == 'Maior que':\n",
    "        filtro = [ i for i in lista if i[categoria] > valor_categoria]\n",
    "    if tipo == 'Maior e iqual a':\n",
    "        filtro = [ i for i in lista if i[categoria] >= valor_categoria]\n",
    "    if tipo == 'Menor que':\n",
    "        filtro = [ i for i in lista if i[categoria] < valor_categoria]\n",
    "    if tipo == 'Menor e iqual a':\n",
    "        filtro = [ i for i in lista if i[categoria] <= valor_categoria]\n",
    "    if tipo == 'Igual a':\n",
    "        filtro = [ i for i in lista if i[categoria] == valor_categoria]\n",
    "    return filtro\n",
    "    \n",
    "    \n",
    "dados_filtrados = filtro(dados_traduzidos, 'Idade',30,'Maior e iqual a')"
   ]
  },
  {
   "cell_type": "markdown",
   "metadata": {},
   "source": [
    "## Função para validação de respostas do usuário"
   ]
  },
  {
   "cell_type": "code",
   "execution_count": 30,
   "metadata": {},
   "outputs": [],
   "source": [
    "def validacao_respostas(pergunta, respostas_validas):\n",
    "  \"\"\"\n",
    "  Validação de respostas. A função valida respostas de um caracter\n",
    "  É passado como parâmetro:\n",
    "    - A pergunta que se quer fazer (str)\n",
    "    - Uma lista com as respostas válidas\n",
    "\n",
    "  Caso o usuário digite algo diferente das respostas válidas,\n",
    "  a função repetirá a pergunta até que o usuário responda um valor válido.\n",
    "  E só retornará opções válidas de valores\n",
    "  \"\"\"\n",
    "  resp = input(pergunta).upper()[0]# apenas 1ªletra\n",
    "  pergunta = 'Resposta inválida! ' + pergunta\n",
    "  while not resp in respostas_validas:\n",
    "    \n",
    "    resp = input(pergunta).upper()[0]# apenas 1ªletra\n",
    "    #resp = input(pergunta).upper()[0]# apenas 1ªletra\n",
    "  return resp"
   ]
  },
  {
   "cell_type": "markdown",
   "metadata": {},
   "source": [
    "## Função para exportar uma lista de dicionários para um arquivo .json"
   ]
  },
  {
   "cell_type": "code",
   "execution_count": 138,
   "metadata": {},
   "outputs": [],
   "source": [
    "import json\n",
    "import os.path\n",
    "def exportar_json(lista_vendas: list):\n",
    "    \"\"\"\n",
    "    A função exporta a lista_vendas para um arquivo.\n",
    "    O arquivo será nomeado pelo usuário\n",
    "        Caso o arquivo já exista na pasta, o usuário será questionado se quer sobrescrever.\n",
    "    O arquivo será no formato .json\n",
    "    Será importado na mesma pasta que se encontra o script\n",
    "    Args:\n",
    "        lista_vendas (list): lista de dicionários com as informações de venda\n",
    "    \"\"\"\n",
    "    nome_arquivo = input(\"Informe o nome do arquivo a ser criado:\\t\").lower()\n",
    "    \n",
    "\n",
    "    # retirando os possíveis espaços do nome\n",
    "    qtd_espaco = nome_arquivo.count(' ')\n",
    "    if qtd_espaco > 0:\n",
    "        nome_arquivo =  nome_arquivo.replace(\" \", \"_\", qtd_espaco)\n",
    "    nome_arquivo += '.json'\n",
    "    \n",
    "    if os.path.exists(nome_arquivo) == True:\n",
    "        pergunta = 'Já existe um arquivo com esse nome.\\nDeseja sobrescrever?[S]  Sim\\t [N] Não\\t'\n",
    "        resp_sobrescrever = validacao_respostas(pergunta, ['S','N'])\n",
    "        if resp_sobrescrever == 'N':\n",
    "            print('O arquivo não foi modificado.')\n",
    "            return\n",
    "    try:\n",
    "        json_vendas = json.dumps(lista_vendas, indent=2,ensure_ascii=False)\n",
    "        arquivo = open(nome_arquivo, 'w', encoding = \"utf-8\") \n",
    "        arquivo.write(json_vendas) \n",
    "        arquivo.close()\n",
    "        print(\"Arquivo exportado com sucesso!\")\n",
    "    except:\n",
    "        print(\"Erro ao exportar arquivo\")\n",
    "    return"
   ]
  },
  {
   "cell_type": "code",
   "execution_count": null,
   "metadata": {},
   "outputs": [],
   "source": []
  }
 ],
 "metadata": {
  "kernelspec": {
   "display_name": "Python 3",
   "language": "python",
   "name": "python3"
  },
  "language_info": {
   "codemirror_mode": {
    "name": "ipython",
    "version": 3
   },
   "file_extension": ".py",
   "mimetype": "text/x-python",
   "name": "python",
   "nbconvert_exporter": "python",
   "pygments_lexer": "ipython3",
   "version": "3.11.6"
  }
 },
 "nbformat": 4,
 "nbformat_minor": 2
}
